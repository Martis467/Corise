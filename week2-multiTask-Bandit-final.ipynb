{
  "cells": [
    {
      "cell_type": "markdown",
      "id": "837f0383-ee06-41a4-b431-032c431dfcbb",
      "metadata": {
        "id": "837f0383-ee06-41a4-b431-032c431dfcbb"
      },
      "source": [
        "# **Welcome to week 2 project!**\n",
        "\n",
        "Congratulations on making it to week 2! 👏 In the first week of this course, we covered the basics of how to design personalized recommendation systems. We then provided some system design examples for large scale recommenders from corporations like Spotify and YouTube, as well as techniques for candidate generation, specifically the two-tower model being used at Twitter and Pinterest.\n",
        "\n",
        "This week, we covered details of ML approaches for recommendations: including multi-task recommenders and contextual bandits.\n",
        "\n",
        "In this week's project, we will touch upon both these methods at a high level. We first begin by developing a simple multi-task model, and then cover a contextual bandit model. For ease of use, we will re-use our H&M dataset from week 1 for Multi-task model, and will switch to using Yahoo! news dataset for contextual bandit model.\n"
      ]
    },
    {
      "cell_type": "markdown",
      "id": "02a97fbf-e1ea-46f1-a355-fc1a4377a2ee",
      "metadata": {
        "id": "02a97fbf-e1ea-46f1-a355-fc1a4377a2ee"
      },
      "source": [
        "# **Multi-task Recommendations**\n",
        "\n",
        "Multi-task recommenders provide a way to predict multiple facets of user engagement in order to make comprehensive recommendations for content that users might like.\n",
        "\n"
      ]
    },
    {
      "cell_type": "code",
      "execution_count": null,
      "id": "3aeb2bd8-37fc-42f5-bc25-9c1eeb305d23",
      "metadata": {
        "id": "3aeb2bd8-37fc-42f5-bc25-9c1eeb305d23",
        "outputId": "6d6040ba-f0dd-4e97-d088-a8e79a8db35d",
        "colab": {
          "base_uri": "https://localhost:8080/",
          "height": 276
        }
      },
      "outputs": [
        {
          "output_type": "display_data",
          "data": {
            "text/plain": [
              "<IPython.core.display.Image object>"
            ],
            "text/html": [
              "<img src=\"https://miro.medium.com/max/3688/1*rrIJOpJO8fkFECNHlwq-jQ.png\" width=\"500\" class=\"unconfined\"/>"
            ]
          },
          "metadata": {}
        }
      ],
      "source": [
        "from IPython.core.display import Image, display\n",
        "display(Image(url='https://miro.medium.com/max/3688/1*rrIJOpJO8fkFECNHlwq-jQ.png', width=500, unconfined=True))"
      ]
    },
    {
      "cell_type": "markdown",
      "id": "5c659f20-fe0d-4c07-a8bd-6f5b90be571d",
      "metadata": {
        "id": "5c659f20-fe0d-4c07-a8bd-6f5b90be571d"
      },
      "source": [
        "\n",
        "**Single task recommender:** we will start by deveoping a single task model that makes predictions about whether the user will purchase the article or not.\n",
        "\n",
        "**Multi-task recommender:** we then expand the scope to consider auxilliary prediction tasks, in order to improve the recommendation performance.\n",
        "\n",
        "Specifically, we make the folliwing three predictions using a multi-task setup:\n",
        "1. Predicting whether the user will make any purchase next week or not\n",
        "2. Predicting which category the user will make purchase in\n",
        "3. Predicting which specific item the user will buy\n",
        "\n",
        "We will use different loss functions to jointly train the multi-task network.\n",
        "\n",
        "**Negative Sampling**\n",
        "It is important to note that the dataset is only of positive cases -- cases wherein the user bought an article. To train our models, we will have to resort to negative sampling to develop a mixed dataset comprising of positive and negative examples.\n",
        "\n",
        "We will cover two categories of negative sampling:\n",
        "1. Random negative sampling\n",
        "2. Negative sampling with bias\n",
        "\n",
        "**Evaluation:**\n",
        "We will evaluate the ranker performance on various ranking metrics.\n"
      ]
    },
    {
      "cell_type": "code",
      "source": [
        "!pip install -q tensorflow-recommenders\n",
        "!pip install -q --upgrade tensorflow-datasets\n",
        "!pip install -q scann"
      ],
      "metadata": {
        "colab": {
          "base_uri": "https://localhost:8080/"
        },
        "id": "YKbi9mO1teOB",
        "outputId": "36c60644-22a9-483a-acd8-a0f1027e9924"
      },
      "id": "YKbi9mO1teOB",
      "execution_count": null,
      "outputs": [
        {
          "output_type": "stream",
          "name": "stdout",
          "text": [
            "\u001b[K     |████████████████████████████████| 88 kB 3.2 MB/s \n",
            "\u001b[K     |████████████████████████████████| 511.7 MB 4.2 kB/s \n",
            "\u001b[K     |████████████████████████████████| 5.8 MB 41.1 MB/s \n",
            "\u001b[K     |████████████████████████████████| 1.6 MB 48.3 MB/s \n",
            "\u001b[K     |████████████████████████████████| 438 kB 79.3 MB/s \n",
            "\u001b[K     |████████████████████████████████| 4.3 MB 4.2 MB/s \n",
            "\u001b[K     |████████████████████████████████| 11.2 MB 4.4 MB/s \n",
            "\u001b[?25h"
          ]
        }
      ]
    },
    {
      "cell_type": "code",
      "execution_count": null,
      "id": "add75169-0279-469c-98c2-36e6fc28ebdd",
      "metadata": {
        "id": "add75169-0279-469c-98c2-36e6fc28ebdd"
      },
      "outputs": [],
      "source": [
        "import pandas as pd\n",
        "import numpy as np\n",
        "import tensorflow as tf\n",
        "import tensorflow_recommenders as tfrs\n",
        "import numpy as np\n",
        "import pandas as pd\n",
        "import seaborn as sns\n",
        "from matplotlib import pyplot as plt\n",
        "from tqdm.notebook import tqdm\n",
        "from pathlib import Path\n",
        "from typing import Dict, Text\n",
        "from functools import reduce\n",
        "import os\n",
        "import pprint\n",
        "import tempfile\n",
        "from typing import Dict, Text\n",
        "import numpy as np\n",
        "import tensorflow as tf\n",
        "import tensorflow_recommenders as tfrs\n",
        "from tensorflow import feature_column\n",
        "import random"
      ]
    },
    {
      "cell_type": "code",
      "source": [
        "# https://drive.google.com/file/d/1FhhxGdUqwSQeRMFRC1lOpTvo_5up7wLK/view?usp=sharing\n",
        "!gdown https://drive.google.com/uc?id=1FhhxGdUqwSQeRMFRC1lOpTvo_5up7wLK\n",
        "!unzip hmdata.zip"
      ],
      "metadata": {
        "colab": {
          "base_uri": "https://localhost:8080/"
        },
        "id": "RUxrRi26tjby",
        "outputId": "15113829-bf5a-4d1c-91e4-327c779b90c9"
      },
      "id": "RUxrRi26tjby",
      "execution_count": null,
      "outputs": [
        {
          "output_type": "stream",
          "name": "stdout",
          "text": [
            "Downloading...\n",
            "From: https://drive.google.com/uc?id=1FhhxGdUqwSQeRMFRC1lOpTvo_5up7wLK\n",
            "To: /content/hmdata.zip\n",
            "100% 773M/773M [00:09<00:00, 81.8MB/s]\n",
            "Archive:  hmdata.zip\n",
            "   creating: hmdata/\n",
            "  inflating: hmdata/customers.csv.zip  \n",
            "  inflating: __MACOSX/hmdata/._customers.csv.zip  \n",
            "  inflating: hmdata/articles.csv.zip  \n",
            "  inflating: __MACOSX/hmdata/._articles.csv.zip  \n",
            "  inflating: hmdata/transactions_train.csv.zip  \n",
            "  inflating: __MACOSX/hmdata/._transactions_train.csv.zip  \n",
            "  inflating: hmdata/sample_submission.csv.zip  \n",
            "  inflating: __MACOSX/hmdata/._sample_submission.csv.zip  \n"
          ]
        }
      ]
    },
    {
      "cell_type": "code",
      "execution_count": null,
      "id": "3081bc7b-ab90-41c0-9c21-35dfe59b4228",
      "metadata": {
        "id": "3081bc7b-ab90-41c0-9c21-35dfe59b4228"
      },
      "outputs": [],
      "source": [
        "article_df = pd.read_csv(\"hmdata/articles.csv.zip\")\n",
        "customer_df = pd.read_csv(\"hmdata/customers.csv.zip\")\n",
        "train0 = pd.read_csv('hmdata/transactions_train.csv.zip')\n",
        "transaction_df = train0"
      ]
    },
    {
      "cell_type": "code",
      "execution_count": null,
      "id": "8e7c8031-0949-4c38-a650-4a4e33595556",
      "metadata": {
        "id": "8e7c8031-0949-4c38-a650-4a4e33595556"
      },
      "outputs": [],
      "source": [
        ""
      ]
    },
    {
      "cell_type": "code",
      "execution_count": null,
      "id": "b2a327e2-5d4a-483a-9de4-5298594d3878",
      "metadata": {
        "id": "b2a327e2-5d4a-483a-9de4-5298594d3878"
      },
      "outputs": [],
      "source": [
        ""
      ]
    },
    {
      "cell_type": "code",
      "execution_count": null,
      "id": "340c115e-84f5-419d-9337-5e00a434ff2f",
      "metadata": {
        "id": "340c115e-84f5-419d-9337-5e00a434ff2f"
      },
      "outputs": [],
      "source": [
        ""
      ]
    },
    {
      "cell_type": "markdown",
      "id": "2b073d71-0ffc-407c-9338-1a87cee00b07",
      "metadata": {
        "id": "2b073d71-0ffc-407c-9338-1a87cee00b07"
      },
      "source": [
        "# **Simple Feature Processing**\n",
        "\n",
        "In this section we focus on extracting features for trainnig the ranking models. We focus primarily on extracting user features, and article features, and leave sophisticated feature modelin for next week.\n",
        "\n",
        "For users specifically, we will focus on extracting the following features:\n",
        "1. age bucket\n",
        "2. no of past purchases\n",
        "3. min/max/avg price\n",
        "4. distrbution over product group\n",
        "5. distrbution over section\n",
        "\n",
        "For aticles, we will learn embedding based features for the article category, product group, and department.\n"
      ]
    },
    {
      "cell_type": "code",
      "execution_count": null,
      "id": "4480de53-5cfd-44bf-864a-98a02d675dc6",
      "metadata": {
        "id": "4480de53-5cfd-44bf-864a-98a02d675dc6"
      },
      "outputs": [],
      "source": [
        ""
      ]
    },
    {
      "cell_type": "code",
      "execution_count": null,
      "id": "a3b09610-07d8-4933-8bcd-1de5ec43193b",
      "metadata": {
        "id": "a3b09610-07d8-4933-8bcd-1de5ec43193b"
      },
      "outputs": [],
      "source": [
        "unique_customer_ids = customer_df.customer_id.unique()\n",
        "unique_article_ids = article_df.article_id.unique()"
      ]
    },
    {
      "cell_type": "code",
      "execution_count": null,
      "id": "ca8a544f-acd7-470d-8b51-1b6a9b051809",
      "metadata": {
        "id": "ca8a544f-acd7-470d-8b51-1b6a9b051809",
        "outputId": "30f2bd86-676b-411a-cd9b-a7f80eb59aa8",
        "colab": {
          "base_uri": "https://localhost:8080/"
        }
      },
      "outputs": [
        {
          "output_type": "stream",
          "name": "stdout",
          "text": [
            "31788324 5108386\n"
          ]
        }
      ],
      "source": [
        "subset = train0[train0[\"t_dat\"]>\"2020-06-01\"]\n",
        "print(len(train0),len(subset))"
      ]
    },
    {
      "cell_type": "code",
      "execution_count": null,
      "id": "1e3a5838-bc19-43bf-b31a-48bcd2578933",
      "metadata": {
        "id": "1e3a5838-bc19-43bf-b31a-48bcd2578933",
        "outputId": "cf50c818-c116-4fa7-daef-63757f316c61",
        "colab": {
          "base_uri": "https://localhost:8080/"
        }
      },
      "outputs": [
        {
          "output_type": "stream",
          "name": "stderr",
          "text": [
            "/usr/local/lib/python3.7/dist-packages/ipykernel_launcher.py:5: SettingWithCopyWarning: \n",
            "A value is trying to be set on a copy of a slice from a DataFrame.\n",
            "Try using .loc[row_indexer,col_indexer] = value instead\n",
            "\n",
            "See the caveats in the documentation: https://pandas.pydata.org/pandas-docs/stable/user_guide/indexing.html#returning-a-view-versus-a-copy\n",
            "  \"\"\"\n"
          ]
        }
      ],
      "source": [
        "def split(x):\n",
        "    if x[\"t_dat\"]<\"2020-08-22\":\n",
        "        return 1\n",
        "    return 0\n",
        "subset[\"train\"] = subset.apply (lambda row: split(row), axis=1)"
      ]
    },
    {
      "cell_type": "code",
      "execution_count": null,
      "id": "01ff690c-aef6-489f-8e13-037ed1c41084",
      "metadata": {
        "id": "01ff690c-aef6-489f-8e13-037ed1c41084"
      },
      "outputs": [],
      "source": [
        "joined = pd.merge(subset, article_df, on='article_id', how='outer')"
      ]
    },
    {
      "cell_type": "code",
      "execution_count": null,
      "id": "4d839a73-79fb-4364-897c-e8dd9607770b",
      "metadata": {
        "id": "4d839a73-79fb-4364-897c-e8dd9607770b"
      },
      "outputs": [],
      "source": [
        "f1 = joined.groupby(\"customer_id\", as_index=False).article_id.nunique() #unique articles\n",
        "f2 = joined.groupby(\"customer_id\", as_index=False).t_dat.nunique() #days active\n",
        "f3 = joined.groupby(\"customer_id\", as_index=False).size() #total purchases\n",
        "f4 = joined.groupby(\"customer_id\", as_index=False).price.min() #min price\n",
        "f5 = joined.groupby(\"customer_id\", as_index=False).price.max() #max price\n",
        "f6 = joined.groupby(\"customer_id\", as_index=False).price.mean() #mean price\n",
        "f7 = joined.groupby(\"customer_id\", as_index=False).product_group_name.nunique() #num unique product groups\n",
        "f8 = joined.groupby(\"customer_id\", as_index=False).department_name.nunique() #num unique department_name\n",
        "f9 = joined.groupby(\"customer_id\", as_index=False).section_name.nunique() #num unique section_name"
      ]
    },
    {
      "cell_type": "code",
      "execution_count": null,
      "id": "5c5eea45-0e60-48ef-8e48-90155fcdaf99",
      "metadata": {
        "id": "5c5eea45-0e60-48ef-8e48-90155fcdaf99"
      },
      "outputs": [],
      "source": [
        "data_frames = [f1,f2,f3,f4,f5,f6,f7,f8,f9]\n",
        "fAll = reduce(lambda  left,right: pd.merge(left,right,on=['customer_id'],\n",
        "                                            how='outer'), data_frames)\n",
        "fAll.columns = ['customer_id', 'nArticles', 'nDays', 'nPurchases', 'minPrice', 'maxPrice', 'meanPrice', 'nPGroups', 'nDept', 'nSect']"
      ]
    },
    {
      "cell_type": "code",
      "execution_count": null,
      "id": "e7ff03f5-65d4-4f91-98d8-68ccefbe48a2",
      "metadata": {
        "id": "e7ff03f5-65d4-4f91-98d8-68ccefbe48a2"
      },
      "outputs": [],
      "source": [
        "joinedF = pd.merge(joined, fAll, on='customer_id', how='outer')"
      ]
    },
    {
      "cell_type": "code",
      "execution_count": null,
      "id": "2f74ea24-619d-4f02-a64e-b72c277ba9b7",
      "metadata": {
        "id": "2f74ea24-619d-4f02-a64e-b72c277ba9b7",
        "outputId": "c4eacb8c-cfd7-4dbb-c8c3-e7a4e73e8977",
        "colab": {
          "base_uri": "https://localhost:8080/"
        }
      },
      "outputs": [
        {
          "output_type": "execute_result",
          "data": {
            "text/plain": [
              "Index(['t_dat', 'customer_id', 'article_id', 'price', 'sales_channel_id',\n",
              "       'train', 'product_code', 'prod_name', 'product_type_no',\n",
              "       'product_type_name', 'product_group_name', 'graphical_appearance_no',\n",
              "       'graphical_appearance_name', 'colour_group_code', 'colour_group_name',\n",
              "       'perceived_colour_value_id', 'perceived_colour_value_name',\n",
              "       'perceived_colour_master_id', 'perceived_colour_master_name',\n",
              "       'department_no', 'department_name', 'index_code', 'index_name',\n",
              "       'index_group_no', 'index_group_name', 'section_no', 'section_name',\n",
              "       'garment_group_no', 'garment_group_name', 'detail_desc', 'nArticles',\n",
              "       'nDays', 'nPurchases', 'minPrice', 'maxPrice', 'meanPrice', 'nPGroups',\n",
              "       'nDept', 'nSect'],\n",
              "      dtype='object')"
            ]
          },
          "metadata": {},
          "execution_count": 13
        }
      ],
      "source": [
        "joinedF.columns"
      ]
    },
    {
      "cell_type": "code",
      "source": [
        "joinedF[joinedF['train'] == 0].head(3)"
      ],
      "metadata": {
        "colab": {
          "base_uri": "https://localhost:8080/",
          "height": 393
        },
        "id": "VSJAM-HLyoQt",
        "outputId": "062d3af9-9446-49b2-bcd1-377aee86131f"
      },
      "id": "VSJAM-HLyoQt",
      "execution_count": null,
      "outputs": [
        {
          "output_type": "execute_result",
          "data": {
            "text/plain": [
              "         t_dat                                        customer_id  article_id  \\\n",
              "5   2020-09-02  0001f8cef6b9702d54abf66fd89eb21014bf98567065a9...   820671001   \n",
              "12  2020-08-25  217f63837efad89b850ccfae747b99a61cd292bb172e95...   684209013   \n",
              "14  2020-08-25  217f63837efad89b850ccfae747b99a61cd292bb172e95...   810838010   \n",
              "\n",
              "       price  sales_channel_id  train  product_code  \\\n",
              "5   0.016932               1.0    0.0        820671   \n",
              "12  0.018627               1.0    0.0        684209   \n",
              "14  0.042356               1.0    0.0        810838   \n",
              "\n",
              "                      prod_name  product_type_no product_type_name  ...  \\\n",
              "5                    Carmen top              254               Top  ...   \n",
              "12  Simple as That Triangle Top              298        Bikini top  ...   \n",
              "14    Apollo seamless HW tights              273   Leggings/Tights  ...   \n",
              "\n",
              "                                          detail_desc  nArticles nDays  \\\n",
              "5   Top in jersey with a sheen. The top has short,...        6.0   4.0   \n",
              "12  Lined, non-wired, triangle bikini top with a w...       26.0   6.0   \n",
              "14  Ankle-length sports tights in fast-drying func...       26.0   6.0   \n",
              "\n",
              "    nPurchases  minPrice  maxPrice meanPrice  nPGroups nDept  nSect  \n",
              "5          6.0  0.010153  0.027102  0.017130       3.0   5.0    3.0  \n",
              "12        27.0  0.004305  0.109322  0.018532       5.0  14.0   10.0  \n",
              "14        27.0  0.004305  0.109322  0.018532       5.0  14.0   10.0  \n",
              "\n",
              "[3 rows x 39 columns]"
            ],
            "text/html": [
              "\n",
              "  <div id=\"df-7bb3a25c-5299-4a43-9388-35a4e428920c\">\n",
              "    <div class=\"colab-df-container\">\n",
              "      <div>\n",
              "<style scoped>\n",
              "    .dataframe tbody tr th:only-of-type {\n",
              "        vertical-align: middle;\n",
              "    }\n",
              "\n",
              "    .dataframe tbody tr th {\n",
              "        vertical-align: top;\n",
              "    }\n",
              "\n",
              "    .dataframe thead th {\n",
              "        text-align: right;\n",
              "    }\n",
              "</style>\n",
              "<table border=\"1\" class=\"dataframe\">\n",
              "  <thead>\n",
              "    <tr style=\"text-align: right;\">\n",
              "      <th></th>\n",
              "      <th>t_dat</th>\n",
              "      <th>customer_id</th>\n",
              "      <th>article_id</th>\n",
              "      <th>price</th>\n",
              "      <th>sales_channel_id</th>\n",
              "      <th>train</th>\n",
              "      <th>product_code</th>\n",
              "      <th>prod_name</th>\n",
              "      <th>product_type_no</th>\n",
              "      <th>product_type_name</th>\n",
              "      <th>...</th>\n",
              "      <th>detail_desc</th>\n",
              "      <th>nArticles</th>\n",
              "      <th>nDays</th>\n",
              "      <th>nPurchases</th>\n",
              "      <th>minPrice</th>\n",
              "      <th>maxPrice</th>\n",
              "      <th>meanPrice</th>\n",
              "      <th>nPGroups</th>\n",
              "      <th>nDept</th>\n",
              "      <th>nSect</th>\n",
              "    </tr>\n",
              "  </thead>\n",
              "  <tbody>\n",
              "    <tr>\n",
              "      <th>5</th>\n",
              "      <td>2020-09-02</td>\n",
              "      <td>0001f8cef6b9702d54abf66fd89eb21014bf98567065a9...</td>\n",
              "      <td>820671001</td>\n",
              "      <td>0.016932</td>\n",
              "      <td>1.0</td>\n",
              "      <td>0.0</td>\n",
              "      <td>820671</td>\n",
              "      <td>Carmen top</td>\n",
              "      <td>254</td>\n",
              "      <td>Top</td>\n",
              "      <td>...</td>\n",
              "      <td>Top in jersey with a sheen. The top has short,...</td>\n",
              "      <td>6.0</td>\n",
              "      <td>4.0</td>\n",
              "      <td>6.0</td>\n",
              "      <td>0.010153</td>\n",
              "      <td>0.027102</td>\n",
              "      <td>0.017130</td>\n",
              "      <td>3.0</td>\n",
              "      <td>5.0</td>\n",
              "      <td>3.0</td>\n",
              "    </tr>\n",
              "    <tr>\n",
              "      <th>12</th>\n",
              "      <td>2020-08-25</td>\n",
              "      <td>217f63837efad89b850ccfae747b99a61cd292bb172e95...</td>\n",
              "      <td>684209013</td>\n",
              "      <td>0.018627</td>\n",
              "      <td>1.0</td>\n",
              "      <td>0.0</td>\n",
              "      <td>684209</td>\n",
              "      <td>Simple as That Triangle Top</td>\n",
              "      <td>298</td>\n",
              "      <td>Bikini top</td>\n",
              "      <td>...</td>\n",
              "      <td>Lined, non-wired, triangle bikini top with a w...</td>\n",
              "      <td>26.0</td>\n",
              "      <td>6.0</td>\n",
              "      <td>27.0</td>\n",
              "      <td>0.004305</td>\n",
              "      <td>0.109322</td>\n",
              "      <td>0.018532</td>\n",
              "      <td>5.0</td>\n",
              "      <td>14.0</td>\n",
              "      <td>10.0</td>\n",
              "    </tr>\n",
              "    <tr>\n",
              "      <th>14</th>\n",
              "      <td>2020-08-25</td>\n",
              "      <td>217f63837efad89b850ccfae747b99a61cd292bb172e95...</td>\n",
              "      <td>810838010</td>\n",
              "      <td>0.042356</td>\n",
              "      <td>1.0</td>\n",
              "      <td>0.0</td>\n",
              "      <td>810838</td>\n",
              "      <td>Apollo seamless HW tights</td>\n",
              "      <td>273</td>\n",
              "      <td>Leggings/Tights</td>\n",
              "      <td>...</td>\n",
              "      <td>Ankle-length sports tights in fast-drying func...</td>\n",
              "      <td>26.0</td>\n",
              "      <td>6.0</td>\n",
              "      <td>27.0</td>\n",
              "      <td>0.004305</td>\n",
              "      <td>0.109322</td>\n",
              "      <td>0.018532</td>\n",
              "      <td>5.0</td>\n",
              "      <td>14.0</td>\n",
              "      <td>10.0</td>\n",
              "    </tr>\n",
              "  </tbody>\n",
              "</table>\n",
              "<p>3 rows × 39 columns</p>\n",
              "</div>\n",
              "      <button class=\"colab-df-convert\" onclick=\"convertToInteractive('df-7bb3a25c-5299-4a43-9388-35a4e428920c')\"\n",
              "              title=\"Convert this dataframe to an interactive table.\"\n",
              "              style=\"display:none;\">\n",
              "        \n",
              "  <svg xmlns=\"http://www.w3.org/2000/svg\" height=\"24px\"viewBox=\"0 0 24 24\"\n",
              "       width=\"24px\">\n",
              "    <path d=\"M0 0h24v24H0V0z\" fill=\"none\"/>\n",
              "    <path d=\"M18.56 5.44l.94 2.06.94-2.06 2.06-.94-2.06-.94-.94-2.06-.94 2.06-2.06.94zm-11 1L8.5 8.5l.94-2.06 2.06-.94-2.06-.94L8.5 2.5l-.94 2.06-2.06.94zm10 10l.94 2.06.94-2.06 2.06-.94-2.06-.94-.94-2.06-.94 2.06-2.06.94z\"/><path d=\"M17.41 7.96l-1.37-1.37c-.4-.4-.92-.59-1.43-.59-.52 0-1.04.2-1.43.59L10.3 9.45l-7.72 7.72c-.78.78-.78 2.05 0 2.83L4 21.41c.39.39.9.59 1.41.59.51 0 1.02-.2 1.41-.59l7.78-7.78 2.81-2.81c.8-.78.8-2.07 0-2.86zM5.41 20L4 18.59l7.72-7.72 1.47 1.35L5.41 20z\"/>\n",
              "  </svg>\n",
              "      </button>\n",
              "      \n",
              "  <style>\n",
              "    .colab-df-container {\n",
              "      display:flex;\n",
              "      flex-wrap:wrap;\n",
              "      gap: 12px;\n",
              "    }\n",
              "\n",
              "    .colab-df-convert {\n",
              "      background-color: #E8F0FE;\n",
              "      border: none;\n",
              "      border-radius: 50%;\n",
              "      cursor: pointer;\n",
              "      display: none;\n",
              "      fill: #1967D2;\n",
              "      height: 32px;\n",
              "      padding: 0 0 0 0;\n",
              "      width: 32px;\n",
              "    }\n",
              "\n",
              "    .colab-df-convert:hover {\n",
              "      background-color: #E2EBFA;\n",
              "      box-shadow: 0px 1px 2px rgba(60, 64, 67, 0.3), 0px 1px 3px 1px rgba(60, 64, 67, 0.15);\n",
              "      fill: #174EA6;\n",
              "    }\n",
              "\n",
              "    [theme=dark] .colab-df-convert {\n",
              "      background-color: #3B4455;\n",
              "      fill: #D2E3FC;\n",
              "    }\n",
              "\n",
              "    [theme=dark] .colab-df-convert:hover {\n",
              "      background-color: #434B5C;\n",
              "      box-shadow: 0px 1px 3px 1px rgba(0, 0, 0, 0.15);\n",
              "      filter: drop-shadow(0px 1px 2px rgba(0, 0, 0, 0.3));\n",
              "      fill: #FFFFFF;\n",
              "    }\n",
              "  </style>\n",
              "\n",
              "      <script>\n",
              "        const buttonEl =\n",
              "          document.querySelector('#df-7bb3a25c-5299-4a43-9388-35a4e428920c button.colab-df-convert');\n",
              "        buttonEl.style.display =\n",
              "          google.colab.kernel.accessAllowed ? 'block' : 'none';\n",
              "\n",
              "        async function convertToInteractive(key) {\n",
              "          const element = document.querySelector('#df-7bb3a25c-5299-4a43-9388-35a4e428920c');\n",
              "          const dataTable =\n",
              "            await google.colab.kernel.invokeFunction('convertToInteractive',\n",
              "                                                     [key], {});\n",
              "          if (!dataTable) return;\n",
              "\n",
              "          const docLinkHtml = 'Like what you see? Visit the ' +\n",
              "            '<a target=\"_blank\" href=https://colab.research.google.com/notebooks/data_table.ipynb>data table notebook</a>'\n",
              "            + ' to learn more about interactive tables.';\n",
              "          element.innerHTML = '';\n",
              "          dataTable['output_type'] = 'display_data';\n",
              "          await google.colab.output.renderOutput(dataTable, element);\n",
              "          const docLink = document.createElement('div');\n",
              "          docLink.innerHTML = docLinkHtml;\n",
              "          element.appendChild(docLink);\n",
              "        }\n",
              "      </script>\n",
              "    </div>\n",
              "  </div>\n",
              "  "
            ]
          },
          "metadata": {},
          "execution_count": 14
        }
      ]
    },
    {
      "cell_type": "code",
      "execution_count": null,
      "id": "b579529e-69b8-4770-8759-fe8f77bf4d66",
      "metadata": {
        "id": "b579529e-69b8-4770-8759-fe8f77bf4d66",
        "outputId": "969cfa53-2acb-4d20-9dce-591cde51418d",
        "colab": {
          "base_uri": "https://localhost:8080/",
          "height": 713
        }
      },
      "outputs": [
        {
          "output_type": "execute_result",
          "data": {
            "text/plain": [
              "                                               customer_id  article_id  \\\n",
              "0        0001f8cef6b9702d54abf66fd89eb21014bf98567065a9...   855834001   \n",
              "1        0001f8cef6b9702d54abf66fd89eb21014bf98567065a9...   836130002   \n",
              "2        0001f8cef6b9702d54abf66fd89eb21014bf98567065a9...   808841001   \n",
              "3        0001f8cef6b9702d54abf66fd89eb21014bf98567065a9...   817472002   \n",
              "4        0001f8cef6b9702d54abf66fd89eb21014bf98567065a9...   806529003   \n",
              "...                                                    ...         ...   \n",
              "5108381  b834a2cb440d2298493d254196abb73e101d8b35b155c6...   870982002   \n",
              "5108382  83b8a97fd3decf8e21d05a9acaea822eaa569c957ea232...   893427001   \n",
              "5108383  83b8a97fd3decf8e21d05a9acaea822eaa569c957ea232...   893427001   \n",
              "5108384  83b8a97fd3decf8e21d05a9acaea822eaa569c957ea232...   903910002   \n",
              "5108385  b9036ca1353cd6d07511e309f8acab557559b724a36419...   910010002   \n",
              "\n",
              "            price  product_group_name  department_name  \\\n",
              "0        0.015831   Garment Full body          Dresses   \n",
              "1        0.015831   Garment Full body          Dresses   \n",
              "2        0.016932  Garment Lower body           Skirts   \n",
              "3        0.010153  Garment Lower body           Shorts   \n",
              "4        0.027102  Garment Lower body          Trouser   \n",
              "...           ...                 ...              ...   \n",
              "5108381  0.061000  Garment Upper body  Outdoor/Blazers   \n",
              "5108382  0.084729   Garment Full body          Trouser   \n",
              "5108383  0.084729   Garment Full body          Trouser   \n",
              "5108384  0.084729   Garment Full body            Dress   \n",
              "5108385  0.050831  Garment Upper body    Tops Knitwear   \n",
              "\n",
              "                       section_name  nArticles  nDays  nPurchases  minPrice  \\\n",
              "0                Divided Collection        6.0    4.0         6.0  0.010153   \n",
              "1                Divided Collection        6.0    4.0         6.0  0.010153   \n",
              "2                Divided Collection        6.0    4.0         6.0  0.010153   \n",
              "3        Womens Everyday Collection        6.0    4.0         6.0  0.010153   \n",
              "4                  Womens Tailoring        6.0    4.0         6.0  0.010153   \n",
              "...                             ...        ...    ...         ...       ...   \n",
              "5108381          Divided Collection        1.0    1.0         1.0  0.061000   \n",
              "5108382  Womens Everyday Collection        2.0    1.0         3.0  0.084729   \n",
              "5108383  Womens Everyday Collection        2.0    1.0         3.0  0.084729   \n",
              "5108384            Womens Tailoring        2.0    1.0         3.0  0.084729   \n",
              "5108385          Divided Collection        1.0    1.0         1.0  0.050831   \n",
              "\n",
              "         maxPrice  meanPrice  nPGroups  nDept  nSect  \n",
              "0        0.027102   0.017130       3.0    5.0    3.0  \n",
              "1        0.027102   0.017130       3.0    5.0    3.0  \n",
              "2        0.027102   0.017130       3.0    5.0    3.0  \n",
              "3        0.027102   0.017130       3.0    5.0    3.0  \n",
              "4        0.027102   0.017130       3.0    5.0    3.0  \n",
              "...           ...        ...       ...    ...    ...  \n",
              "5108381  0.061000   0.061000       1.0    1.0    1.0  \n",
              "5108382  0.084729   0.084729       1.0    2.0    2.0  \n",
              "5108383  0.084729   0.084729       1.0    2.0    2.0  \n",
              "5108384  0.084729   0.084729       1.0    2.0    2.0  \n",
              "5108385  0.050831   0.050831       1.0    1.0    1.0  \n",
              "\n",
              "[5108386 rows x 15 columns]"
            ],
            "text/html": [
              "\n",
              "  <div id=\"df-e0f506be-bd05-4370-a7a7-27aacaf6b789\">\n",
              "    <div class=\"colab-df-container\">\n",
              "      <div>\n",
              "<style scoped>\n",
              "    .dataframe tbody tr th:only-of-type {\n",
              "        vertical-align: middle;\n",
              "    }\n",
              "\n",
              "    .dataframe tbody tr th {\n",
              "        vertical-align: top;\n",
              "    }\n",
              "\n",
              "    .dataframe thead th {\n",
              "        text-align: right;\n",
              "    }\n",
              "</style>\n",
              "<table border=\"1\" class=\"dataframe\">\n",
              "  <thead>\n",
              "    <tr style=\"text-align: right;\">\n",
              "      <th></th>\n",
              "      <th>customer_id</th>\n",
              "      <th>article_id</th>\n",
              "      <th>price</th>\n",
              "      <th>product_group_name</th>\n",
              "      <th>department_name</th>\n",
              "      <th>section_name</th>\n",
              "      <th>nArticles</th>\n",
              "      <th>nDays</th>\n",
              "      <th>nPurchases</th>\n",
              "      <th>minPrice</th>\n",
              "      <th>maxPrice</th>\n",
              "      <th>meanPrice</th>\n",
              "      <th>nPGroups</th>\n",
              "      <th>nDept</th>\n",
              "      <th>nSect</th>\n",
              "    </tr>\n",
              "  </thead>\n",
              "  <tbody>\n",
              "    <tr>\n",
              "      <th>0</th>\n",
              "      <td>0001f8cef6b9702d54abf66fd89eb21014bf98567065a9...</td>\n",
              "      <td>855834001</td>\n",
              "      <td>0.015831</td>\n",
              "      <td>Garment Full body</td>\n",
              "      <td>Dresses</td>\n",
              "      <td>Divided Collection</td>\n",
              "      <td>6.0</td>\n",
              "      <td>4.0</td>\n",
              "      <td>6.0</td>\n",
              "      <td>0.010153</td>\n",
              "      <td>0.027102</td>\n",
              "      <td>0.017130</td>\n",
              "      <td>3.0</td>\n",
              "      <td>5.0</td>\n",
              "      <td>3.0</td>\n",
              "    </tr>\n",
              "    <tr>\n",
              "      <th>1</th>\n",
              "      <td>0001f8cef6b9702d54abf66fd89eb21014bf98567065a9...</td>\n",
              "      <td>836130002</td>\n",
              "      <td>0.015831</td>\n",
              "      <td>Garment Full body</td>\n",
              "      <td>Dresses</td>\n",
              "      <td>Divided Collection</td>\n",
              "      <td>6.0</td>\n",
              "      <td>4.0</td>\n",
              "      <td>6.0</td>\n",
              "      <td>0.010153</td>\n",
              "      <td>0.027102</td>\n",
              "      <td>0.017130</td>\n",
              "      <td>3.0</td>\n",
              "      <td>5.0</td>\n",
              "      <td>3.0</td>\n",
              "    </tr>\n",
              "    <tr>\n",
              "      <th>2</th>\n",
              "      <td>0001f8cef6b9702d54abf66fd89eb21014bf98567065a9...</td>\n",
              "      <td>808841001</td>\n",
              "      <td>0.016932</td>\n",
              "      <td>Garment Lower body</td>\n",
              "      <td>Skirts</td>\n",
              "      <td>Divided Collection</td>\n",
              "      <td>6.0</td>\n",
              "      <td>4.0</td>\n",
              "      <td>6.0</td>\n",
              "      <td>0.010153</td>\n",
              "      <td>0.027102</td>\n",
              "      <td>0.017130</td>\n",
              "      <td>3.0</td>\n",
              "      <td>5.0</td>\n",
              "      <td>3.0</td>\n",
              "    </tr>\n",
              "    <tr>\n",
              "      <th>3</th>\n",
              "      <td>0001f8cef6b9702d54abf66fd89eb21014bf98567065a9...</td>\n",
              "      <td>817472002</td>\n",
              "      <td>0.010153</td>\n",
              "      <td>Garment Lower body</td>\n",
              "      <td>Shorts</td>\n",
              "      <td>Womens Everyday Collection</td>\n",
              "      <td>6.0</td>\n",
              "      <td>4.0</td>\n",
              "      <td>6.0</td>\n",
              "      <td>0.010153</td>\n",
              "      <td>0.027102</td>\n",
              "      <td>0.017130</td>\n",
              "      <td>3.0</td>\n",
              "      <td>5.0</td>\n",
              "      <td>3.0</td>\n",
              "    </tr>\n",
              "    <tr>\n",
              "      <th>4</th>\n",
              "      <td>0001f8cef6b9702d54abf66fd89eb21014bf98567065a9...</td>\n",
              "      <td>806529003</td>\n",
              "      <td>0.027102</td>\n",
              "      <td>Garment Lower body</td>\n",
              "      <td>Trouser</td>\n",
              "      <td>Womens Tailoring</td>\n",
              "      <td>6.0</td>\n",
              "      <td>4.0</td>\n",
              "      <td>6.0</td>\n",
              "      <td>0.010153</td>\n",
              "      <td>0.027102</td>\n",
              "      <td>0.017130</td>\n",
              "      <td>3.0</td>\n",
              "      <td>5.0</td>\n",
              "      <td>3.0</td>\n",
              "    </tr>\n",
              "    <tr>\n",
              "      <th>...</th>\n",
              "      <td>...</td>\n",
              "      <td>...</td>\n",
              "      <td>...</td>\n",
              "      <td>...</td>\n",
              "      <td>...</td>\n",
              "      <td>...</td>\n",
              "      <td>...</td>\n",
              "      <td>...</td>\n",
              "      <td>...</td>\n",
              "      <td>...</td>\n",
              "      <td>...</td>\n",
              "      <td>...</td>\n",
              "      <td>...</td>\n",
              "      <td>...</td>\n",
              "      <td>...</td>\n",
              "    </tr>\n",
              "    <tr>\n",
              "      <th>5108381</th>\n",
              "      <td>b834a2cb440d2298493d254196abb73e101d8b35b155c6...</td>\n",
              "      <td>870982002</td>\n",
              "      <td>0.061000</td>\n",
              "      <td>Garment Upper body</td>\n",
              "      <td>Outdoor/Blazers</td>\n",
              "      <td>Divided Collection</td>\n",
              "      <td>1.0</td>\n",
              "      <td>1.0</td>\n",
              "      <td>1.0</td>\n",
              "      <td>0.061000</td>\n",
              "      <td>0.061000</td>\n",
              "      <td>0.061000</td>\n",
              "      <td>1.0</td>\n",
              "      <td>1.0</td>\n",
              "      <td>1.0</td>\n",
              "    </tr>\n",
              "    <tr>\n",
              "      <th>5108382</th>\n",
              "      <td>83b8a97fd3decf8e21d05a9acaea822eaa569c957ea232...</td>\n",
              "      <td>893427001</td>\n",
              "      <td>0.084729</td>\n",
              "      <td>Garment Full body</td>\n",
              "      <td>Trouser</td>\n",
              "      <td>Womens Everyday Collection</td>\n",
              "      <td>2.0</td>\n",
              "      <td>1.0</td>\n",
              "      <td>3.0</td>\n",
              "      <td>0.084729</td>\n",
              "      <td>0.084729</td>\n",
              "      <td>0.084729</td>\n",
              "      <td>1.0</td>\n",
              "      <td>2.0</td>\n",
              "      <td>2.0</td>\n",
              "    </tr>\n",
              "    <tr>\n",
              "      <th>5108383</th>\n",
              "      <td>83b8a97fd3decf8e21d05a9acaea822eaa569c957ea232...</td>\n",
              "      <td>893427001</td>\n",
              "      <td>0.084729</td>\n",
              "      <td>Garment Full body</td>\n",
              "      <td>Trouser</td>\n",
              "      <td>Womens Everyday Collection</td>\n",
              "      <td>2.0</td>\n",
              "      <td>1.0</td>\n",
              "      <td>3.0</td>\n",
              "      <td>0.084729</td>\n",
              "      <td>0.084729</td>\n",
              "      <td>0.084729</td>\n",
              "      <td>1.0</td>\n",
              "      <td>2.0</td>\n",
              "      <td>2.0</td>\n",
              "    </tr>\n",
              "    <tr>\n",
              "      <th>5108384</th>\n",
              "      <td>83b8a97fd3decf8e21d05a9acaea822eaa569c957ea232...</td>\n",
              "      <td>903910002</td>\n",
              "      <td>0.084729</td>\n",
              "      <td>Garment Full body</td>\n",
              "      <td>Dress</td>\n",
              "      <td>Womens Tailoring</td>\n",
              "      <td>2.0</td>\n",
              "      <td>1.0</td>\n",
              "      <td>3.0</td>\n",
              "      <td>0.084729</td>\n",
              "      <td>0.084729</td>\n",
              "      <td>0.084729</td>\n",
              "      <td>1.0</td>\n",
              "      <td>2.0</td>\n",
              "      <td>2.0</td>\n",
              "    </tr>\n",
              "    <tr>\n",
              "      <th>5108385</th>\n",
              "      <td>b9036ca1353cd6d07511e309f8acab557559b724a36419...</td>\n",
              "      <td>910010002</td>\n",
              "      <td>0.050831</td>\n",
              "      <td>Garment Upper body</td>\n",
              "      <td>Tops Knitwear</td>\n",
              "      <td>Divided Collection</td>\n",
              "      <td>1.0</td>\n",
              "      <td>1.0</td>\n",
              "      <td>1.0</td>\n",
              "      <td>0.050831</td>\n",
              "      <td>0.050831</td>\n",
              "      <td>0.050831</td>\n",
              "      <td>1.0</td>\n",
              "      <td>1.0</td>\n",
              "      <td>1.0</td>\n",
              "    </tr>\n",
              "  </tbody>\n",
              "</table>\n",
              "<p>5108386 rows × 15 columns</p>\n",
              "</div>\n",
              "      <button class=\"colab-df-convert\" onclick=\"convertToInteractive('df-e0f506be-bd05-4370-a7a7-27aacaf6b789')\"\n",
              "              title=\"Convert this dataframe to an interactive table.\"\n",
              "              style=\"display:none;\">\n",
              "        \n",
              "  <svg xmlns=\"http://www.w3.org/2000/svg\" height=\"24px\"viewBox=\"0 0 24 24\"\n",
              "       width=\"24px\">\n",
              "    <path d=\"M0 0h24v24H0V0z\" fill=\"none\"/>\n",
              "    <path d=\"M18.56 5.44l.94 2.06.94-2.06 2.06-.94-2.06-.94-.94-2.06-.94 2.06-2.06.94zm-11 1L8.5 8.5l.94-2.06 2.06-.94-2.06-.94L8.5 2.5l-.94 2.06-2.06.94zm10 10l.94 2.06.94-2.06 2.06-.94-2.06-.94-.94-2.06-.94 2.06-2.06.94z\"/><path d=\"M17.41 7.96l-1.37-1.37c-.4-.4-.92-.59-1.43-.59-.52 0-1.04.2-1.43.59L10.3 9.45l-7.72 7.72c-.78.78-.78 2.05 0 2.83L4 21.41c.39.39.9.59 1.41.59.51 0 1.02-.2 1.41-.59l7.78-7.78 2.81-2.81c.8-.78.8-2.07 0-2.86zM5.41 20L4 18.59l7.72-7.72 1.47 1.35L5.41 20z\"/>\n",
              "  </svg>\n",
              "      </button>\n",
              "      \n",
              "  <style>\n",
              "    .colab-df-container {\n",
              "      display:flex;\n",
              "      flex-wrap:wrap;\n",
              "      gap: 12px;\n",
              "    }\n",
              "\n",
              "    .colab-df-convert {\n",
              "      background-color: #E8F0FE;\n",
              "      border: none;\n",
              "      border-radius: 50%;\n",
              "      cursor: pointer;\n",
              "      display: none;\n",
              "      fill: #1967D2;\n",
              "      height: 32px;\n",
              "      padding: 0 0 0 0;\n",
              "      width: 32px;\n",
              "    }\n",
              "\n",
              "    .colab-df-convert:hover {\n",
              "      background-color: #E2EBFA;\n",
              "      box-shadow: 0px 1px 2px rgba(60, 64, 67, 0.3), 0px 1px 3px 1px rgba(60, 64, 67, 0.15);\n",
              "      fill: #174EA6;\n",
              "    }\n",
              "\n",
              "    [theme=dark] .colab-df-convert {\n",
              "      background-color: #3B4455;\n",
              "      fill: #D2E3FC;\n",
              "    }\n",
              "\n",
              "    [theme=dark] .colab-df-convert:hover {\n",
              "      background-color: #434B5C;\n",
              "      box-shadow: 0px 1px 3px 1px rgba(0, 0, 0, 0.15);\n",
              "      filter: drop-shadow(0px 1px 2px rgba(0, 0, 0, 0.3));\n",
              "      fill: #FFFFFF;\n",
              "    }\n",
              "  </style>\n",
              "\n",
              "      <script>\n",
              "        const buttonEl =\n",
              "          document.querySelector('#df-e0f506be-bd05-4370-a7a7-27aacaf6b789 button.colab-df-convert');\n",
              "        buttonEl.style.display =\n",
              "          google.colab.kernel.accessAllowed ? 'block' : 'none';\n",
              "\n",
              "        async function convertToInteractive(key) {\n",
              "          const element = document.querySelector('#df-e0f506be-bd05-4370-a7a7-27aacaf6b789');\n",
              "          const dataTable =\n",
              "            await google.colab.kernel.invokeFunction('convertToInteractive',\n",
              "                                                     [key], {});\n",
              "          if (!dataTable) return;\n",
              "\n",
              "          const docLinkHtml = 'Like what you see? Visit the ' +\n",
              "            '<a target=\"_blank\" href=https://colab.research.google.com/notebooks/data_table.ipynb>data table notebook</a>'\n",
              "            + ' to learn more about interactive tables.';\n",
              "          element.innerHTML = '';\n",
              "          dataTable['output_type'] = 'display_data';\n",
              "          await google.colab.output.renderOutput(dataTable, element);\n",
              "          const docLink = document.createElement('div');\n",
              "          docLink.innerHTML = docLinkHtml;\n",
              "          element.appendChild(docLink);\n",
              "        }\n",
              "      </script>\n",
              "    </div>\n",
              "  </div>\n",
              "  "
            ]
          },
          "metadata": {},
          "execution_count": 15
        }
      ],
      "source": [
        "columns = ['customer_id','article_id',\n",
        "           'price',\n",
        "          'product_group_name', 'department_name',\n",
        "             'section_name',\n",
        "             'nArticles',\n",
        "             'nDays',\n",
        "             'nPurchases',\n",
        "             'minPrice',\n",
        "             'maxPrice',\n",
        "             'meanPrice',\n",
        "             'nPGroups',\n",
        "             'nDept',\n",
        "             'nSect']\n",
        "trainF = joinedF[columns][~joinedF[\"customer_id\"].isna()]\n",
        "trainF"
      ]
    },
    {
      "cell_type": "code",
      "execution_count": null,
      "id": "675e6078-f1ca-4993-ba1d-48a9dc94ea38",
      "metadata": {
        "id": "675e6078-f1ca-4993-ba1d-48a9dc94ea38"
      },
      "outputs": [],
      "source": [
        ""
      ]
    },
    {
      "cell_type": "markdown",
      "id": "9ff60881-c2ab-4c1f-b69a-67c28becb6cf",
      "metadata": {
        "id": "9ff60881-c2ab-4c1f-b69a-67c28becb6cf"
      },
      "source": [
        "# Negative Sampling for training ranker\n",
        "\n",
        "If you notice the dataset, we only have purchase information. This is generallyt he case -- we often only observe positive interactions from users. However, to train a model, we would need access to positive and negative samples both.\n",
        "\n",
        "To generate negative sampled, here we focus on random sampling of negative examples per user-artice transaction. Other methods exist to sample negatives, namely:\n",
        "1. Random sampling\n",
        "2. Biased sampling from similar categories\n",
        "3. Cross-batch negative sampling\n",
        "\n",
        "In this project, we will go ahead with the random sampling strategy."
      ]
    },
    {
      "cell_type": "code",
      "execution_count": null,
      "id": "0ebf9e47-d778-4822-b37b-f0dd29323816",
      "metadata": {
        "id": "0ebf9e47-d778-4822-b37b-f0dd29323816"
      },
      "outputs": [],
      "source": [
        "tt = trainF.groupby(\"customer_id\", as_index=False).article_id.agg(['unique']).reset_index()\n",
        "tt.columns = ['customer_id', 'article_list']"
      ]
    },
    {
      "cell_type": "code",
      "execution_count": null,
      "id": "cfcb19e5-9e0d-4fa8-ab65-b46ced061c35",
      "metadata": {
        "id": "cfcb19e5-9e0d-4fa8-ab65-b46ced061c35",
        "outputId": "904eabb6-89ff-43c1-c87b-476c5a33abb2",
        "colab": {
          "base_uri": "https://localhost:8080/",
          "height": 424
        }
      },
      "outputs": [
        {
          "output_type": "execute_result",
          "data": {
            "text/plain": [
              "                                              customer_id  \\\n",
              "0       00000dbacae5abe5e23885899a1fa44253a17956c6d1c3...   \n",
              "1       0000423b00ade91418cceaf3b26c6af3dd342b51fd051e...   \n",
              "2       000058a12d5b43e67d225668fa1f8d618c13dc232df0ca...   \n",
              "3       00006413d8573cd20ed7128e53b7b13819fe5cfc2d801f...   \n",
              "4       0000757967448a6cb83efb3ea7a3fb9d418ac7adf2379d...   \n",
              "...                                                   ...   \n",
              "596584  ffff8f9ecdce722b5bab97fff68a6d1866492209bfe524...   \n",
              "596585  ffffbbf78b6eaac697a8a5dfbfd2bfa8113ee5b403e474...   \n",
              "596586  ffffcd5046a6143d29a04fb8c424ce494a76e5cdf4fab5...   \n",
              "596587  ffffcf35913a0bee60e8741cb2b4e78b8a98ee5ff2e6a1...   \n",
              "596588  ffffd7744cebcf3aca44ae7049d2a94b87074c3d4ffe38...   \n",
              "\n",
              "                                             article_list  \n",
              "0                                             [568601043]  \n",
              "1                                             [826211002]  \n",
              "2                                             [794321007]  \n",
              "3       [827971001, 589440005, 818320001, 730683050, 9...  \n",
              "4                                  [448509014, 719530003]  \n",
              "...                                                   ...  \n",
              "596584                  [889679001, 863001002, 859845001]  \n",
              "596585  [684209019, 599580046, 822311009, 791587007, 8...  \n",
              "596586  [853654002, 685816044, 805370005, 759871030, 6...  \n",
              "596587  [636323002, 795975009, 884081001, 689365050, 5...  \n",
              "596588                                        [882810001]  \n",
              "\n",
              "[596589 rows x 2 columns]"
            ],
            "text/html": [
              "\n",
              "  <div id=\"df-c15322b7-0f1b-4c64-9c7f-afcf8b50f8cc\">\n",
              "    <div class=\"colab-df-container\">\n",
              "      <div>\n",
              "<style scoped>\n",
              "    .dataframe tbody tr th:only-of-type {\n",
              "        vertical-align: middle;\n",
              "    }\n",
              "\n",
              "    .dataframe tbody tr th {\n",
              "        vertical-align: top;\n",
              "    }\n",
              "\n",
              "    .dataframe thead th {\n",
              "        text-align: right;\n",
              "    }\n",
              "</style>\n",
              "<table border=\"1\" class=\"dataframe\">\n",
              "  <thead>\n",
              "    <tr style=\"text-align: right;\">\n",
              "      <th></th>\n",
              "      <th>customer_id</th>\n",
              "      <th>article_list</th>\n",
              "    </tr>\n",
              "  </thead>\n",
              "  <tbody>\n",
              "    <tr>\n",
              "      <th>0</th>\n",
              "      <td>00000dbacae5abe5e23885899a1fa44253a17956c6d1c3...</td>\n",
              "      <td>[568601043]</td>\n",
              "    </tr>\n",
              "    <tr>\n",
              "      <th>1</th>\n",
              "      <td>0000423b00ade91418cceaf3b26c6af3dd342b51fd051e...</td>\n",
              "      <td>[826211002]</td>\n",
              "    </tr>\n",
              "    <tr>\n",
              "      <th>2</th>\n",
              "      <td>000058a12d5b43e67d225668fa1f8d618c13dc232df0ca...</td>\n",
              "      <td>[794321007]</td>\n",
              "    </tr>\n",
              "    <tr>\n",
              "      <th>3</th>\n",
              "      <td>00006413d8573cd20ed7128e53b7b13819fe5cfc2d801f...</td>\n",
              "      <td>[827971001, 589440005, 818320001, 730683050, 9...</td>\n",
              "    </tr>\n",
              "    <tr>\n",
              "      <th>4</th>\n",
              "      <td>0000757967448a6cb83efb3ea7a3fb9d418ac7adf2379d...</td>\n",
              "      <td>[448509014, 719530003]</td>\n",
              "    </tr>\n",
              "    <tr>\n",
              "      <th>...</th>\n",
              "      <td>...</td>\n",
              "      <td>...</td>\n",
              "    </tr>\n",
              "    <tr>\n",
              "      <th>596584</th>\n",
              "      <td>ffff8f9ecdce722b5bab97fff68a6d1866492209bfe524...</td>\n",
              "      <td>[889679001, 863001002, 859845001]</td>\n",
              "    </tr>\n",
              "    <tr>\n",
              "      <th>596585</th>\n",
              "      <td>ffffbbf78b6eaac697a8a5dfbfd2bfa8113ee5b403e474...</td>\n",
              "      <td>[684209019, 599580046, 822311009, 791587007, 8...</td>\n",
              "    </tr>\n",
              "    <tr>\n",
              "      <th>596586</th>\n",
              "      <td>ffffcd5046a6143d29a04fb8c424ce494a76e5cdf4fab5...</td>\n",
              "      <td>[853654002, 685816044, 805370005, 759871030, 6...</td>\n",
              "    </tr>\n",
              "    <tr>\n",
              "      <th>596587</th>\n",
              "      <td>ffffcf35913a0bee60e8741cb2b4e78b8a98ee5ff2e6a1...</td>\n",
              "      <td>[636323002, 795975009, 884081001, 689365050, 5...</td>\n",
              "    </tr>\n",
              "    <tr>\n",
              "      <th>596588</th>\n",
              "      <td>ffffd7744cebcf3aca44ae7049d2a94b87074c3d4ffe38...</td>\n",
              "      <td>[882810001]</td>\n",
              "    </tr>\n",
              "  </tbody>\n",
              "</table>\n",
              "<p>596589 rows × 2 columns</p>\n",
              "</div>\n",
              "      <button class=\"colab-df-convert\" onclick=\"convertToInteractive('df-c15322b7-0f1b-4c64-9c7f-afcf8b50f8cc')\"\n",
              "              title=\"Convert this dataframe to an interactive table.\"\n",
              "              style=\"display:none;\">\n",
              "        \n",
              "  <svg xmlns=\"http://www.w3.org/2000/svg\" height=\"24px\"viewBox=\"0 0 24 24\"\n",
              "       width=\"24px\">\n",
              "    <path d=\"M0 0h24v24H0V0z\" fill=\"none\"/>\n",
              "    <path d=\"M18.56 5.44l.94 2.06.94-2.06 2.06-.94-2.06-.94-.94-2.06-.94 2.06-2.06.94zm-11 1L8.5 8.5l.94-2.06 2.06-.94-2.06-.94L8.5 2.5l-.94 2.06-2.06.94zm10 10l.94 2.06.94-2.06 2.06-.94-2.06-.94-.94-2.06-.94 2.06-2.06.94z\"/><path d=\"M17.41 7.96l-1.37-1.37c-.4-.4-.92-.59-1.43-.59-.52 0-1.04.2-1.43.59L10.3 9.45l-7.72 7.72c-.78.78-.78 2.05 0 2.83L4 21.41c.39.39.9.59 1.41.59.51 0 1.02-.2 1.41-.59l7.78-7.78 2.81-2.81c.8-.78.8-2.07 0-2.86zM5.41 20L4 18.59l7.72-7.72 1.47 1.35L5.41 20z\"/>\n",
              "  </svg>\n",
              "      </button>\n",
              "      \n",
              "  <style>\n",
              "    .colab-df-container {\n",
              "      display:flex;\n",
              "      flex-wrap:wrap;\n",
              "      gap: 12px;\n",
              "    }\n",
              "\n",
              "    .colab-df-convert {\n",
              "      background-color: #E8F0FE;\n",
              "      border: none;\n",
              "      border-radius: 50%;\n",
              "      cursor: pointer;\n",
              "      display: none;\n",
              "      fill: #1967D2;\n",
              "      height: 32px;\n",
              "      padding: 0 0 0 0;\n",
              "      width: 32px;\n",
              "    }\n",
              "\n",
              "    .colab-df-convert:hover {\n",
              "      background-color: #E2EBFA;\n",
              "      box-shadow: 0px 1px 2px rgba(60, 64, 67, 0.3), 0px 1px 3px 1px rgba(60, 64, 67, 0.15);\n",
              "      fill: #174EA6;\n",
              "    }\n",
              "\n",
              "    [theme=dark] .colab-df-convert {\n",
              "      background-color: #3B4455;\n",
              "      fill: #D2E3FC;\n",
              "    }\n",
              "\n",
              "    [theme=dark] .colab-df-convert:hover {\n",
              "      background-color: #434B5C;\n",
              "      box-shadow: 0px 1px 3px 1px rgba(0, 0, 0, 0.15);\n",
              "      filter: drop-shadow(0px 1px 2px rgba(0, 0, 0, 0.3));\n",
              "      fill: #FFFFFF;\n",
              "    }\n",
              "  </style>\n",
              "\n",
              "      <script>\n",
              "        const buttonEl =\n",
              "          document.querySelector('#df-c15322b7-0f1b-4c64-9c7f-afcf8b50f8cc button.colab-df-convert');\n",
              "        buttonEl.style.display =\n",
              "          google.colab.kernel.accessAllowed ? 'block' : 'none';\n",
              "\n",
              "        async function convertToInteractive(key) {\n",
              "          const element = document.querySelector('#df-c15322b7-0f1b-4c64-9c7f-afcf8b50f8cc');\n",
              "          const dataTable =\n",
              "            await google.colab.kernel.invokeFunction('convertToInteractive',\n",
              "                                                     [key], {});\n",
              "          if (!dataTable) return;\n",
              "\n",
              "          const docLinkHtml = 'Like what you see? Visit the ' +\n",
              "            '<a target=\"_blank\" href=https://colab.research.google.com/notebooks/data_table.ipynb>data table notebook</a>'\n",
              "            + ' to learn more about interactive tables.';\n",
              "          element.innerHTML = '';\n",
              "          dataTable['output_type'] = 'display_data';\n",
              "          await google.colab.output.renderOutput(dataTable, element);\n",
              "          const docLink = document.createElement('div');\n",
              "          docLink.innerHTML = docLinkHtml;\n",
              "          element.appendChild(docLink);\n",
              "        }\n",
              "      </script>\n",
              "    </div>\n",
              "  </div>\n",
              "  "
            ]
          },
          "metadata": {},
          "execution_count": 17
        }
      ],
      "source": [
        "tt"
      ]
    },
    {
      "cell_type": "code",
      "execution_count": null,
      "id": "42b22b40-e7c3-4b76-913f-9383119d114f",
      "metadata": {
        "id": "42b22b40-e7c3-4b76-913f-9383119d114f"
      },
      "outputs": [],
      "source": [
        "articlesSet = list(trainF.article_id.unique())"
      ]
    },
    {
      "cell_type": "code",
      "execution_count": null,
      "id": "97f629c5-7b58-41ea-962d-ad559ee6197b",
      "metadata": {
        "id": "97f629c5-7b58-41ea-962d-ad559ee6197b",
        "outputId": "d8384c48-4a53-4911-e950-b9340cd6b76f",
        "colab": {
          "base_uri": "https://localhost:8080/"
        }
      },
      "outputs": [
        {
          "output_type": "stream",
          "name": "stdout",
          "text": [
            "45892\n",
            "['customer_id', 'article_list']\n"
          ]
        }
      ],
      "source": [
        "print(len(articlesSet))\n",
        "tt.columns = ['customer_id', 'article_list']\n",
        "print(list(tt))"
      ]
    },
    {
      "cell_type": "code",
      "execution_count": null,
      "id": "8d82cc39-6cdc-48d4-8a0b-1fba2d1171e5",
      "metadata": {
        "id": "8d82cc39-6cdc-48d4-8a0b-1fba2d1171e5"
      },
      "outputs": [],
      "source": [
        "def generate_negative_samples(train_df, article_list, num_neg=1):\n",
        "    negData = []\n",
        "    for index, row in train_df.iterrows():\n",
        "        allList = article_list\n",
        "        cust = row['customer_id']\n",
        "        art_list = row['article_list']\n",
        "        allList = list(set(allList) - set(art_list))\n",
        "        negs = random.sample(allList, num_neg)\n",
        "        for n in negs:\n",
        "            negData.append([cust,n])\n",
        "    negDf = pd.DataFrame(negData,columns=['customer_id','article_id'])\n",
        "    return negDf"
      ]
    },
    {
      "cell_type": "code",
      "execution_count": null,
      "id": "33d10277-f699-4e1f-9e1a-eb5a5b8d52d7",
      "metadata": {
        "id": "33d10277-f699-4e1f-9e1a-eb5a5b8d52d7"
      },
      "outputs": [],
      "source": [
        ""
      ]
    },
    {
      "cell_type": "code",
      "execution_count": null,
      "id": "c9828161-6e0f-4ada-b435-c35e5d401cd3",
      "metadata": {
        "id": "c9828161-6e0f-4ada-b435-c35e5d401cd3",
        "outputId": "d1b9d1c9-ba67-4998-e2fe-c414bce10c1a",
        "colab": {
          "base_uri": "https://localhost:8080/",
          "height": 424
        }
      },
      "outputs": [
        {
          "output_type": "execute_result",
          "data": {
            "text/plain": [
              "                                             customer_id  article_id\n",
              "0      00000dbacae5abe5e23885899a1fa44253a17956c6d1c3...   387348025\n",
              "1      00000dbacae5abe5e23885899a1fa44253a17956c6d1c3...   753210003\n",
              "2      0000423b00ade91418cceaf3b26c6af3dd342b51fd051e...   858052008\n",
              "3      0000423b00ade91418cceaf3b26c6af3dd342b51fd051e...   620762018\n",
              "4      000058a12d5b43e67d225668fa1f8d618c13dc232df0ca...   926137001\n",
              "...                                                  ...         ...\n",
              "79995  11297a0414218c18ab7109376c63c7d8f093b49bbd254d...   858866001\n",
              "79996  1129a321da62de7224393a06c477b851d0581636f7b9e7...   919521001\n",
              "79997  1129a321da62de7224393a06c477b851d0581636f7b9e7...   823488001\n",
              "79998  112a04b065c314ab86a3536a3d31c267f88200435cbe75...   547780003\n",
              "79999  112a04b065c314ab86a3536a3d31c267f88200435cbe75...   769102009\n",
              "\n",
              "[80000 rows x 2 columns]"
            ],
            "text/html": [
              "\n",
              "  <div id=\"df-ff6cdf82-0f61-4ba9-997e-20f4c3417dd6\">\n",
              "    <div class=\"colab-df-container\">\n",
              "      <div>\n",
              "<style scoped>\n",
              "    .dataframe tbody tr th:only-of-type {\n",
              "        vertical-align: middle;\n",
              "    }\n",
              "\n",
              "    .dataframe tbody tr th {\n",
              "        vertical-align: top;\n",
              "    }\n",
              "\n",
              "    .dataframe thead th {\n",
              "        text-align: right;\n",
              "    }\n",
              "</style>\n",
              "<table border=\"1\" class=\"dataframe\">\n",
              "  <thead>\n",
              "    <tr style=\"text-align: right;\">\n",
              "      <th></th>\n",
              "      <th>customer_id</th>\n",
              "      <th>article_id</th>\n",
              "    </tr>\n",
              "  </thead>\n",
              "  <tbody>\n",
              "    <tr>\n",
              "      <th>0</th>\n",
              "      <td>00000dbacae5abe5e23885899a1fa44253a17956c6d1c3...</td>\n",
              "      <td>387348025</td>\n",
              "    </tr>\n",
              "    <tr>\n",
              "      <th>1</th>\n",
              "      <td>00000dbacae5abe5e23885899a1fa44253a17956c6d1c3...</td>\n",
              "      <td>753210003</td>\n",
              "    </tr>\n",
              "    <tr>\n",
              "      <th>2</th>\n",
              "      <td>0000423b00ade91418cceaf3b26c6af3dd342b51fd051e...</td>\n",
              "      <td>858052008</td>\n",
              "    </tr>\n",
              "    <tr>\n",
              "      <th>3</th>\n",
              "      <td>0000423b00ade91418cceaf3b26c6af3dd342b51fd051e...</td>\n",
              "      <td>620762018</td>\n",
              "    </tr>\n",
              "    <tr>\n",
              "      <th>4</th>\n",
              "      <td>000058a12d5b43e67d225668fa1f8d618c13dc232df0ca...</td>\n",
              "      <td>926137001</td>\n",
              "    </tr>\n",
              "    <tr>\n",
              "      <th>...</th>\n",
              "      <td>...</td>\n",
              "      <td>...</td>\n",
              "    </tr>\n",
              "    <tr>\n",
              "      <th>79995</th>\n",
              "      <td>11297a0414218c18ab7109376c63c7d8f093b49bbd254d...</td>\n",
              "      <td>858866001</td>\n",
              "    </tr>\n",
              "    <tr>\n",
              "      <th>79996</th>\n",
              "      <td>1129a321da62de7224393a06c477b851d0581636f7b9e7...</td>\n",
              "      <td>919521001</td>\n",
              "    </tr>\n",
              "    <tr>\n",
              "      <th>79997</th>\n",
              "      <td>1129a321da62de7224393a06c477b851d0581636f7b9e7...</td>\n",
              "      <td>823488001</td>\n",
              "    </tr>\n",
              "    <tr>\n",
              "      <th>79998</th>\n",
              "      <td>112a04b065c314ab86a3536a3d31c267f88200435cbe75...</td>\n",
              "      <td>547780003</td>\n",
              "    </tr>\n",
              "    <tr>\n",
              "      <th>79999</th>\n",
              "      <td>112a04b065c314ab86a3536a3d31c267f88200435cbe75...</td>\n",
              "      <td>769102009</td>\n",
              "    </tr>\n",
              "  </tbody>\n",
              "</table>\n",
              "<p>80000 rows × 2 columns</p>\n",
              "</div>\n",
              "      <button class=\"colab-df-convert\" onclick=\"convertToInteractive('df-ff6cdf82-0f61-4ba9-997e-20f4c3417dd6')\"\n",
              "              title=\"Convert this dataframe to an interactive table.\"\n",
              "              style=\"display:none;\">\n",
              "        \n",
              "  <svg xmlns=\"http://www.w3.org/2000/svg\" height=\"24px\"viewBox=\"0 0 24 24\"\n",
              "       width=\"24px\">\n",
              "    <path d=\"M0 0h24v24H0V0z\" fill=\"none\"/>\n",
              "    <path d=\"M18.56 5.44l.94 2.06.94-2.06 2.06-.94-2.06-.94-.94-2.06-.94 2.06-2.06.94zm-11 1L8.5 8.5l.94-2.06 2.06-.94-2.06-.94L8.5 2.5l-.94 2.06-2.06.94zm10 10l.94 2.06.94-2.06 2.06-.94-2.06-.94-.94-2.06-.94 2.06-2.06.94z\"/><path d=\"M17.41 7.96l-1.37-1.37c-.4-.4-.92-.59-1.43-.59-.52 0-1.04.2-1.43.59L10.3 9.45l-7.72 7.72c-.78.78-.78 2.05 0 2.83L4 21.41c.39.39.9.59 1.41.59.51 0 1.02-.2 1.41-.59l7.78-7.78 2.81-2.81c.8-.78.8-2.07 0-2.86zM5.41 20L4 18.59l7.72-7.72 1.47 1.35L5.41 20z\"/>\n",
              "  </svg>\n",
              "      </button>\n",
              "      \n",
              "  <style>\n",
              "    .colab-df-container {\n",
              "      display:flex;\n",
              "      flex-wrap:wrap;\n",
              "      gap: 12px;\n",
              "    }\n",
              "\n",
              "    .colab-df-convert {\n",
              "      background-color: #E8F0FE;\n",
              "      border: none;\n",
              "      border-radius: 50%;\n",
              "      cursor: pointer;\n",
              "      display: none;\n",
              "      fill: #1967D2;\n",
              "      height: 32px;\n",
              "      padding: 0 0 0 0;\n",
              "      width: 32px;\n",
              "    }\n",
              "\n",
              "    .colab-df-convert:hover {\n",
              "      background-color: #E2EBFA;\n",
              "      box-shadow: 0px 1px 2px rgba(60, 64, 67, 0.3), 0px 1px 3px 1px rgba(60, 64, 67, 0.15);\n",
              "      fill: #174EA6;\n",
              "    }\n",
              "\n",
              "    [theme=dark] .colab-df-convert {\n",
              "      background-color: #3B4455;\n",
              "      fill: #D2E3FC;\n",
              "    }\n",
              "\n",
              "    [theme=dark] .colab-df-convert:hover {\n",
              "      background-color: #434B5C;\n",
              "      box-shadow: 0px 1px 3px 1px rgba(0, 0, 0, 0.15);\n",
              "      filter: drop-shadow(0px 1px 2px rgba(0, 0, 0, 0.3));\n",
              "      fill: #FFFFFF;\n",
              "    }\n",
              "  </style>\n",
              "\n",
              "      <script>\n",
              "        const buttonEl =\n",
              "          document.querySelector('#df-ff6cdf82-0f61-4ba9-997e-20f4c3417dd6 button.colab-df-convert');\n",
              "        buttonEl.style.display =\n",
              "          google.colab.kernel.accessAllowed ? 'block' : 'none';\n",
              "\n",
              "        async function convertToInteractive(key) {\n",
              "          const element = document.querySelector('#df-ff6cdf82-0f61-4ba9-997e-20f4c3417dd6');\n",
              "          const dataTable =\n",
              "            await google.colab.kernel.invokeFunction('convertToInteractive',\n",
              "                                                     [key], {});\n",
              "          if (!dataTable) return;\n",
              "\n",
              "          const docLinkHtml = 'Like what you see? Visit the ' +\n",
              "            '<a target=\"_blank\" href=https://colab.research.google.com/notebooks/data_table.ipynb>data table notebook</a>'\n",
              "            + ' to learn more about interactive tables.';\n",
              "          element.innerHTML = '';\n",
              "          dataTable['output_type'] = 'display_data';\n",
              "          await google.colab.output.renderOutput(dataTable, element);\n",
              "          const docLink = document.createElement('div');\n",
              "          docLink.innerHTML = docLinkHtml;\n",
              "          element.appendChild(docLink);\n",
              "        }\n",
              "      </script>\n",
              "    </div>\n",
              "  </div>\n",
              "  "
            ]
          },
          "metadata": {},
          "execution_count": 21
        }
      ],
      "source": [
        "negDf = generate_negative_samples(tt.head(40000),articlesSet,2)\n",
        "negDf"
      ]
    },
    {
      "cell_type": "markdown",
      "id": "affe3023-ad6e-4c30-b02d-df5626b479a5",
      "metadata": {
        "id": "affe3023-ad6e-4c30-b02d-df5626b479a5"
      },
      "source": [
        "### We next generate features for negatives"
      ]
    },
    {
      "cell_type": "code",
      "execution_count": null,
      "id": "f652957e-c199-49db-a9f0-1268966ae57d",
      "metadata": {
        "id": "f652957e-c199-49db-a9f0-1268966ae57d",
        "outputId": "7a6a9e6a-06b2-40bd-e815-909aac8777b2",
        "colab": {
          "base_uri": "https://localhost:8080/",
          "height": 592
        }
      },
      "outputs": [
        {
          "output_type": "execute_result",
          "data": {
            "text/plain": [
              "                                             customer_id  article_id  \\\n",
              "0      00000dbacae5abe5e23885899a1fa44253a17956c6d1c3...   387348025   \n",
              "1      00000dbacae5abe5e23885899a1fa44253a17956c6d1c3...   753210003   \n",
              "2      0000423b00ade91418cceaf3b26c6af3dd342b51fd051e...   858052008   \n",
              "3      0000423b00ade91418cceaf3b26c6af3dd342b51fd051e...   620762018   \n",
              "4      000058a12d5b43e67d225668fa1f8d618c13dc232df0ca...   926137001   \n",
              "...                                                  ...         ...   \n",
              "79995  11297a0414218c18ab7109376c63c7d8f093b49bbd254d...   858866001   \n",
              "79996  1129a321da62de7224393a06c477b851d0581636f7b9e7...   919521001   \n",
              "79997  1129a321da62de7224393a06c477b851d0581636f7b9e7...   823488001   \n",
              "79998  112a04b065c314ab86a3536a3d31c267f88200435cbe75...   547780003   \n",
              "79999  112a04b065c314ab86a3536a3d31c267f88200435cbe75...   769102009   \n",
              "\n",
              "       product_group_name    department_name                   section_name  \\\n",
              "0      Garment Upper body  Men Sport Bottoms                  Men H&M Sport   \n",
              "1      Garment Upper body  Tops Fancy Jersey             Divided Collection   \n",
              "2      Garment Upper body             Blouse     Womens Everyday Collection   \n",
              "3      Garment Upper body           Knitwear          Men Suits & Tailoring   \n",
              "4      Garment Upper body            Outwear                 Womens Jackets   \n",
              "...                   ...                ...                            ...   \n",
              "79995               Shoes    Premium Quality                   Womens Shoes   \n",
              "79996         Accessories      Men Sport Acc                  Men H&M Sport   \n",
              "79997  Garment Lower body     Baby Boy Woven                       Baby Boy   \n",
              "79998  Garment Lower body            Basic 1                 Divided Basics   \n",
              "79999           Nightwear     Baby Nightwear  Baby Essentials & Complements   \n",
              "\n",
              "       nArticles  nDays  nPurchases  minPrice  maxPrice  meanPrice  nPGroups  \\\n",
              "0              1      1           1  0.050831  0.050831   0.050831         1   \n",
              "1              1      1           1  0.050831  0.050831   0.050831         1   \n",
              "2              1      1           1  0.027102  0.027102   0.027102         1   \n",
              "3              1      1           1  0.027102  0.027102   0.027102         1   \n",
              "4              1      1           1  0.061000  0.061000   0.061000         1   \n",
              "...          ...    ...         ...       ...       ...        ...       ...   \n",
              "79995          2      1           2  0.008458  0.033881   0.021169         1   \n",
              "79996          3      2           3  0.005068  0.022017   0.016367         3   \n",
              "79997          3      2           3  0.005068  0.022017   0.016367         3   \n",
              "79998          2      1           4  0.016932  0.016932   0.016932         1   \n",
              "79999          2      1           4  0.016932  0.016932   0.016932         1   \n",
              "\n",
              "       nDept  nSect  \n",
              "0          1      1  \n",
              "1          1      1  \n",
              "2          1      1  \n",
              "3          1      1  \n",
              "4          1      1  \n",
              "...      ...    ...  \n",
              "79995      1      1  \n",
              "79996      3      3  \n",
              "79997      3      3  \n",
              "79998      1      1  \n",
              "79999      1      1  \n",
              "\n",
              "[80000 rows x 14 columns]"
            ],
            "text/html": [
              "\n",
              "  <div id=\"df-a50aa1a6-32e4-4edd-b0ce-41e09581970e\">\n",
              "    <div class=\"colab-df-container\">\n",
              "      <div>\n",
              "<style scoped>\n",
              "    .dataframe tbody tr th:only-of-type {\n",
              "        vertical-align: middle;\n",
              "    }\n",
              "\n",
              "    .dataframe tbody tr th {\n",
              "        vertical-align: top;\n",
              "    }\n",
              "\n",
              "    .dataframe thead th {\n",
              "        text-align: right;\n",
              "    }\n",
              "</style>\n",
              "<table border=\"1\" class=\"dataframe\">\n",
              "  <thead>\n",
              "    <tr style=\"text-align: right;\">\n",
              "      <th></th>\n",
              "      <th>customer_id</th>\n",
              "      <th>article_id</th>\n",
              "      <th>product_group_name</th>\n",
              "      <th>department_name</th>\n",
              "      <th>section_name</th>\n",
              "      <th>nArticles</th>\n",
              "      <th>nDays</th>\n",
              "      <th>nPurchases</th>\n",
              "      <th>minPrice</th>\n",
              "      <th>maxPrice</th>\n",
              "      <th>meanPrice</th>\n",
              "      <th>nPGroups</th>\n",
              "      <th>nDept</th>\n",
              "      <th>nSect</th>\n",
              "    </tr>\n",
              "  </thead>\n",
              "  <tbody>\n",
              "    <tr>\n",
              "      <th>0</th>\n",
              "      <td>00000dbacae5abe5e23885899a1fa44253a17956c6d1c3...</td>\n",
              "      <td>387348025</td>\n",
              "      <td>Garment Upper body</td>\n",
              "      <td>Men Sport Bottoms</td>\n",
              "      <td>Men H&amp;M Sport</td>\n",
              "      <td>1</td>\n",
              "      <td>1</td>\n",
              "      <td>1</td>\n",
              "      <td>0.050831</td>\n",
              "      <td>0.050831</td>\n",
              "      <td>0.050831</td>\n",
              "      <td>1</td>\n",
              "      <td>1</td>\n",
              "      <td>1</td>\n",
              "    </tr>\n",
              "    <tr>\n",
              "      <th>1</th>\n",
              "      <td>00000dbacae5abe5e23885899a1fa44253a17956c6d1c3...</td>\n",
              "      <td>753210003</td>\n",
              "      <td>Garment Upper body</td>\n",
              "      <td>Tops Fancy Jersey</td>\n",
              "      <td>Divided Collection</td>\n",
              "      <td>1</td>\n",
              "      <td>1</td>\n",
              "      <td>1</td>\n",
              "      <td>0.050831</td>\n",
              "      <td>0.050831</td>\n",
              "      <td>0.050831</td>\n",
              "      <td>1</td>\n",
              "      <td>1</td>\n",
              "      <td>1</td>\n",
              "    </tr>\n",
              "    <tr>\n",
              "      <th>2</th>\n",
              "      <td>0000423b00ade91418cceaf3b26c6af3dd342b51fd051e...</td>\n",
              "      <td>858052008</td>\n",
              "      <td>Garment Upper body</td>\n",
              "      <td>Blouse</td>\n",
              "      <td>Womens Everyday Collection</td>\n",
              "      <td>1</td>\n",
              "      <td>1</td>\n",
              "      <td>1</td>\n",
              "      <td>0.027102</td>\n",
              "      <td>0.027102</td>\n",
              "      <td>0.027102</td>\n",
              "      <td>1</td>\n",
              "      <td>1</td>\n",
              "      <td>1</td>\n",
              "    </tr>\n",
              "    <tr>\n",
              "      <th>3</th>\n",
              "      <td>0000423b00ade91418cceaf3b26c6af3dd342b51fd051e...</td>\n",
              "      <td>620762018</td>\n",
              "      <td>Garment Upper body</td>\n",
              "      <td>Knitwear</td>\n",
              "      <td>Men Suits &amp; Tailoring</td>\n",
              "      <td>1</td>\n",
              "      <td>1</td>\n",
              "      <td>1</td>\n",
              "      <td>0.027102</td>\n",
              "      <td>0.027102</td>\n",
              "      <td>0.027102</td>\n",
              "      <td>1</td>\n",
              "      <td>1</td>\n",
              "      <td>1</td>\n",
              "    </tr>\n",
              "    <tr>\n",
              "      <th>4</th>\n",
              "      <td>000058a12d5b43e67d225668fa1f8d618c13dc232df0ca...</td>\n",
              "      <td>926137001</td>\n",
              "      <td>Garment Upper body</td>\n",
              "      <td>Outwear</td>\n",
              "      <td>Womens Jackets</td>\n",
              "      <td>1</td>\n",
              "      <td>1</td>\n",
              "      <td>1</td>\n",
              "      <td>0.061000</td>\n",
              "      <td>0.061000</td>\n",
              "      <td>0.061000</td>\n",
              "      <td>1</td>\n",
              "      <td>1</td>\n",
              "      <td>1</td>\n",
              "    </tr>\n",
              "    <tr>\n",
              "      <th>...</th>\n",
              "      <td>...</td>\n",
              "      <td>...</td>\n",
              "      <td>...</td>\n",
              "      <td>...</td>\n",
              "      <td>...</td>\n",
              "      <td>...</td>\n",
              "      <td>...</td>\n",
              "      <td>...</td>\n",
              "      <td>...</td>\n",
              "      <td>...</td>\n",
              "      <td>...</td>\n",
              "      <td>...</td>\n",
              "      <td>...</td>\n",
              "      <td>...</td>\n",
              "    </tr>\n",
              "    <tr>\n",
              "      <th>79995</th>\n",
              "      <td>11297a0414218c18ab7109376c63c7d8f093b49bbd254d...</td>\n",
              "      <td>858866001</td>\n",
              "      <td>Shoes</td>\n",
              "      <td>Premium Quality</td>\n",
              "      <td>Womens Shoes</td>\n",
              "      <td>2</td>\n",
              "      <td>1</td>\n",
              "      <td>2</td>\n",
              "      <td>0.008458</td>\n",
              "      <td>0.033881</td>\n",
              "      <td>0.021169</td>\n",
              "      <td>1</td>\n",
              "      <td>1</td>\n",
              "      <td>1</td>\n",
              "    </tr>\n",
              "    <tr>\n",
              "      <th>79996</th>\n",
              "      <td>1129a321da62de7224393a06c477b851d0581636f7b9e7...</td>\n",
              "      <td>919521001</td>\n",
              "      <td>Accessories</td>\n",
              "      <td>Men Sport Acc</td>\n",
              "      <td>Men H&amp;M Sport</td>\n",
              "      <td>3</td>\n",
              "      <td>2</td>\n",
              "      <td>3</td>\n",
              "      <td>0.005068</td>\n",
              "      <td>0.022017</td>\n",
              "      <td>0.016367</td>\n",
              "      <td>3</td>\n",
              "      <td>3</td>\n",
              "      <td>3</td>\n",
              "    </tr>\n",
              "    <tr>\n",
              "      <th>79997</th>\n",
              "      <td>1129a321da62de7224393a06c477b851d0581636f7b9e7...</td>\n",
              "      <td>823488001</td>\n",
              "      <td>Garment Lower body</td>\n",
              "      <td>Baby Boy Woven</td>\n",
              "      <td>Baby Boy</td>\n",
              "      <td>3</td>\n",
              "      <td>2</td>\n",
              "      <td>3</td>\n",
              "      <td>0.005068</td>\n",
              "      <td>0.022017</td>\n",
              "      <td>0.016367</td>\n",
              "      <td>3</td>\n",
              "      <td>3</td>\n",
              "      <td>3</td>\n",
              "    </tr>\n",
              "    <tr>\n",
              "      <th>79998</th>\n",
              "      <td>112a04b065c314ab86a3536a3d31c267f88200435cbe75...</td>\n",
              "      <td>547780003</td>\n",
              "      <td>Garment Lower body</td>\n",
              "      <td>Basic 1</td>\n",
              "      <td>Divided Basics</td>\n",
              "      <td>2</td>\n",
              "      <td>1</td>\n",
              "      <td>4</td>\n",
              "      <td>0.016932</td>\n",
              "      <td>0.016932</td>\n",
              "      <td>0.016932</td>\n",
              "      <td>1</td>\n",
              "      <td>1</td>\n",
              "      <td>1</td>\n",
              "    </tr>\n",
              "    <tr>\n",
              "      <th>79999</th>\n",
              "      <td>112a04b065c314ab86a3536a3d31c267f88200435cbe75...</td>\n",
              "      <td>769102009</td>\n",
              "      <td>Nightwear</td>\n",
              "      <td>Baby Nightwear</td>\n",
              "      <td>Baby Essentials &amp; Complements</td>\n",
              "      <td>2</td>\n",
              "      <td>1</td>\n",
              "      <td>4</td>\n",
              "      <td>0.016932</td>\n",
              "      <td>0.016932</td>\n",
              "      <td>0.016932</td>\n",
              "      <td>1</td>\n",
              "      <td>1</td>\n",
              "      <td>1</td>\n",
              "    </tr>\n",
              "  </tbody>\n",
              "</table>\n",
              "<p>80000 rows × 14 columns</p>\n",
              "</div>\n",
              "      <button class=\"colab-df-convert\" onclick=\"convertToInteractive('df-a50aa1a6-32e4-4edd-b0ce-41e09581970e')\"\n",
              "              title=\"Convert this dataframe to an interactive table.\"\n",
              "              style=\"display:none;\">\n",
              "        \n",
              "  <svg xmlns=\"http://www.w3.org/2000/svg\" height=\"24px\"viewBox=\"0 0 24 24\"\n",
              "       width=\"24px\">\n",
              "    <path d=\"M0 0h24v24H0V0z\" fill=\"none\"/>\n",
              "    <path d=\"M18.56 5.44l.94 2.06.94-2.06 2.06-.94-2.06-.94-.94-2.06-.94 2.06-2.06.94zm-11 1L8.5 8.5l.94-2.06 2.06-.94-2.06-.94L8.5 2.5l-.94 2.06-2.06.94zm10 10l.94 2.06.94-2.06 2.06-.94-2.06-.94-.94-2.06-.94 2.06-2.06.94z\"/><path d=\"M17.41 7.96l-1.37-1.37c-.4-.4-.92-.59-1.43-.59-.52 0-1.04.2-1.43.59L10.3 9.45l-7.72 7.72c-.78.78-.78 2.05 0 2.83L4 21.41c.39.39.9.59 1.41.59.51 0 1.02-.2 1.41-.59l7.78-7.78 2.81-2.81c.8-.78.8-2.07 0-2.86zM5.41 20L4 18.59l7.72-7.72 1.47 1.35L5.41 20z\"/>\n",
              "  </svg>\n",
              "      </button>\n",
              "      \n",
              "  <style>\n",
              "    .colab-df-container {\n",
              "      display:flex;\n",
              "      flex-wrap:wrap;\n",
              "      gap: 12px;\n",
              "    }\n",
              "\n",
              "    .colab-df-convert {\n",
              "      background-color: #E8F0FE;\n",
              "      border: none;\n",
              "      border-radius: 50%;\n",
              "      cursor: pointer;\n",
              "      display: none;\n",
              "      fill: #1967D2;\n",
              "      height: 32px;\n",
              "      padding: 0 0 0 0;\n",
              "      width: 32px;\n",
              "    }\n",
              "\n",
              "    .colab-df-convert:hover {\n",
              "      background-color: #E2EBFA;\n",
              "      box-shadow: 0px 1px 2px rgba(60, 64, 67, 0.3), 0px 1px 3px 1px rgba(60, 64, 67, 0.15);\n",
              "      fill: #174EA6;\n",
              "    }\n",
              "\n",
              "    [theme=dark] .colab-df-convert {\n",
              "      background-color: #3B4455;\n",
              "      fill: #D2E3FC;\n",
              "    }\n",
              "\n",
              "    [theme=dark] .colab-df-convert:hover {\n",
              "      background-color: #434B5C;\n",
              "      box-shadow: 0px 1px 3px 1px rgba(0, 0, 0, 0.15);\n",
              "      filter: drop-shadow(0px 1px 2px rgba(0, 0, 0, 0.3));\n",
              "      fill: #FFFFFF;\n",
              "    }\n",
              "  </style>\n",
              "\n",
              "      <script>\n",
              "        const buttonEl =\n",
              "          document.querySelector('#df-a50aa1a6-32e4-4edd-b0ce-41e09581970e button.colab-df-convert');\n",
              "        buttonEl.style.display =\n",
              "          google.colab.kernel.accessAllowed ? 'block' : 'none';\n",
              "\n",
              "        async function convertToInteractive(key) {\n",
              "          const element = document.querySelector('#df-a50aa1a6-32e4-4edd-b0ce-41e09581970e');\n",
              "          const dataTable =\n",
              "            await google.colab.kernel.invokeFunction('convertToInteractive',\n",
              "                                                     [key], {});\n",
              "          if (!dataTable) return;\n",
              "\n",
              "          const docLinkHtml = 'Like what you see? Visit the ' +\n",
              "            '<a target=\"_blank\" href=https://colab.research.google.com/notebooks/data_table.ipynb>data table notebook</a>'\n",
              "            + ' to learn more about interactive tables.';\n",
              "          element.innerHTML = '';\n",
              "          dataTable['output_type'] = 'display_data';\n",
              "          await google.colab.output.renderOutput(dataTable, element);\n",
              "          const docLink = document.createElement('div');\n",
              "          docLink.innerHTML = docLinkHtml;\n",
              "          element.appendChild(docLink);\n",
              "        }\n",
              "      </script>\n",
              "    </div>\n",
              "  </div>\n",
              "  "
            ]
          },
          "metadata": {},
          "execution_count": 22
        }
      ],
      "source": [
        "joinedFN = pd.merge(negDf, article_df[['article_id','product_group_name', 'department_name','section_name']], on='article_id', how='left')\n",
        "joinedFN = pd.merge(joinedFN, fAll, on='customer_id', how='left')\n",
        "joinedFN"
      ]
    },
    {
      "cell_type": "code",
      "execution_count": null,
      "id": "40788433-0522-4e6a-a1ef-0a61b3670f50",
      "metadata": {
        "id": "40788433-0522-4e6a-a1ef-0a61b3670f50"
      },
      "outputs": [],
      "source": [
        "trainF['label1']=1\n",
        "joinedFN['label1']=0"
      ]
    },
    {
      "cell_type": "code",
      "execution_count": null,
      "id": "aaacc944-f2ed-4e94-afee-2599db25377a",
      "metadata": {
        "id": "aaacc944-f2ed-4e94-afee-2599db25377a"
      },
      "outputs": [],
      "source": [
        "data = [trainF.head(40000), joinedFN]\n",
        "trainDF = pd.concat(data)"
      ]
    },
    {
      "cell_type": "code",
      "execution_count": null,
      "id": "3294a2f5-4856-4317-ad4c-1bdf1e5066fb",
      "metadata": {
        "id": "3294a2f5-4856-4317-ad4c-1bdf1e5066fb",
        "outputId": "dc9d6a7e-6c03-483a-c72f-527017ca4976",
        "colab": {
          "base_uri": "https://localhost:8080/"
        }
      },
      "outputs": [
        {
          "output_type": "execute_result",
          "data": {
            "text/plain": [
              "(120000, 16)"
            ]
          },
          "metadata": {},
          "execution_count": 31
        }
      ],
      "source": [
        "# 0001f8cef6b9702d54abf66fd89eb21014bf98567065a9b5e42f37bc99528cf5\n",
        "trainDF.shape"
      ]
    },
    {
      "cell_type": "code",
      "source": [
        "train_data = trainDF.head(100000)\n",
        "test_data = trainDF.tail(20000)"
      ],
      "metadata": {
        "id": "fJU-4cy9Kfpp"
      },
      "id": "fJU-4cy9Kfpp",
      "execution_count": null,
      "outputs": []
    },
    {
      "cell_type": "code",
      "execution_count": null,
      "id": "d7b30d68-d8d0-4d94-8a6b-1e989b9d211b",
      "metadata": {
        "id": "d7b30d68-d8d0-4d94-8a6b-1e989b9d211b"
      },
      "outputs": [],
      "source": [
        "trainDF.to_pickle(\"trainDF.pkl\")"
      ]
    },
    {
      "cell_type": "code",
      "execution_count": null,
      "id": "3fb5fcde-a4a8-416f-862f-1883f922fde4",
      "metadata": {
        "id": "3fb5fcde-a4a8-416f-862f-1883f922fde4",
        "colab": {
          "base_uri": "https://localhost:8080/",
          "height": 260
        },
        "outputId": "c4becddf-6dff-41a0-fe8d-fdb7fde3fb3e"
      },
      "outputs": [
        {
          "output_type": "execute_result",
          "data": {
            "text/plain": [
              "                                         customer_id  article_id     price  \\\n",
              "0  0001f8cef6b9702d54abf66fd89eb21014bf98567065a9...   855834001  0.015831   \n",
              "1  0001f8cef6b9702d54abf66fd89eb21014bf98567065a9...   836130002  0.015831   \n",
              "2  0001f8cef6b9702d54abf66fd89eb21014bf98567065a9...   808841001  0.016932   \n",
              "\n",
              "   product_group_name department_name        section_name  nArticles  nDays  \\\n",
              "0   Garment Full body         Dresses  Divided Collection        6.0    4.0   \n",
              "1   Garment Full body         Dresses  Divided Collection        6.0    4.0   \n",
              "2  Garment Lower body          Skirts  Divided Collection        6.0    4.0   \n",
              "\n",
              "   nPurchases  minPrice  maxPrice  meanPrice  nPGroups  nDept  nSect  label1  \n",
              "0         6.0  0.010153  0.027102    0.01713       3.0    5.0    3.0       1  \n",
              "1         6.0  0.010153  0.027102    0.01713       3.0    5.0    3.0       1  \n",
              "2         6.0  0.010153  0.027102    0.01713       3.0    5.0    3.0       1  "
            ],
            "text/html": [
              "\n",
              "  <div id=\"df-d98336f7-f5ee-4590-8ac8-10a31f6d9589\">\n",
              "    <div class=\"colab-df-container\">\n",
              "      <div>\n",
              "<style scoped>\n",
              "    .dataframe tbody tr th:only-of-type {\n",
              "        vertical-align: middle;\n",
              "    }\n",
              "\n",
              "    .dataframe tbody tr th {\n",
              "        vertical-align: top;\n",
              "    }\n",
              "\n",
              "    .dataframe thead th {\n",
              "        text-align: right;\n",
              "    }\n",
              "</style>\n",
              "<table border=\"1\" class=\"dataframe\">\n",
              "  <thead>\n",
              "    <tr style=\"text-align: right;\">\n",
              "      <th></th>\n",
              "      <th>customer_id</th>\n",
              "      <th>article_id</th>\n",
              "      <th>price</th>\n",
              "      <th>product_group_name</th>\n",
              "      <th>department_name</th>\n",
              "      <th>section_name</th>\n",
              "      <th>nArticles</th>\n",
              "      <th>nDays</th>\n",
              "      <th>nPurchases</th>\n",
              "      <th>minPrice</th>\n",
              "      <th>maxPrice</th>\n",
              "      <th>meanPrice</th>\n",
              "      <th>nPGroups</th>\n",
              "      <th>nDept</th>\n",
              "      <th>nSect</th>\n",
              "      <th>label1</th>\n",
              "    </tr>\n",
              "  </thead>\n",
              "  <tbody>\n",
              "    <tr>\n",
              "      <th>0</th>\n",
              "      <td>0001f8cef6b9702d54abf66fd89eb21014bf98567065a9...</td>\n",
              "      <td>855834001</td>\n",
              "      <td>0.015831</td>\n",
              "      <td>Garment Full body</td>\n",
              "      <td>Dresses</td>\n",
              "      <td>Divided Collection</td>\n",
              "      <td>6.0</td>\n",
              "      <td>4.0</td>\n",
              "      <td>6.0</td>\n",
              "      <td>0.010153</td>\n",
              "      <td>0.027102</td>\n",
              "      <td>0.01713</td>\n",
              "      <td>3.0</td>\n",
              "      <td>5.0</td>\n",
              "      <td>3.0</td>\n",
              "      <td>1</td>\n",
              "    </tr>\n",
              "    <tr>\n",
              "      <th>1</th>\n",
              "      <td>0001f8cef6b9702d54abf66fd89eb21014bf98567065a9...</td>\n",
              "      <td>836130002</td>\n",
              "      <td>0.015831</td>\n",
              "      <td>Garment Full body</td>\n",
              "      <td>Dresses</td>\n",
              "      <td>Divided Collection</td>\n",
              "      <td>6.0</td>\n",
              "      <td>4.0</td>\n",
              "      <td>6.0</td>\n",
              "      <td>0.010153</td>\n",
              "      <td>0.027102</td>\n",
              "      <td>0.01713</td>\n",
              "      <td>3.0</td>\n",
              "      <td>5.0</td>\n",
              "      <td>3.0</td>\n",
              "      <td>1</td>\n",
              "    </tr>\n",
              "    <tr>\n",
              "      <th>2</th>\n",
              "      <td>0001f8cef6b9702d54abf66fd89eb21014bf98567065a9...</td>\n",
              "      <td>808841001</td>\n",
              "      <td>0.016932</td>\n",
              "      <td>Garment Lower body</td>\n",
              "      <td>Skirts</td>\n",
              "      <td>Divided Collection</td>\n",
              "      <td>6.0</td>\n",
              "      <td>4.0</td>\n",
              "      <td>6.0</td>\n",
              "      <td>0.010153</td>\n",
              "      <td>0.027102</td>\n",
              "      <td>0.01713</td>\n",
              "      <td>3.0</td>\n",
              "      <td>5.0</td>\n",
              "      <td>3.0</td>\n",
              "      <td>1</td>\n",
              "    </tr>\n",
              "  </tbody>\n",
              "</table>\n",
              "</div>\n",
              "      <button class=\"colab-df-convert\" onclick=\"convertToInteractive('df-d98336f7-f5ee-4590-8ac8-10a31f6d9589')\"\n",
              "              title=\"Convert this dataframe to an interactive table.\"\n",
              "              style=\"display:none;\">\n",
              "        \n",
              "  <svg xmlns=\"http://www.w3.org/2000/svg\" height=\"24px\"viewBox=\"0 0 24 24\"\n",
              "       width=\"24px\">\n",
              "    <path d=\"M0 0h24v24H0V0z\" fill=\"none\"/>\n",
              "    <path d=\"M18.56 5.44l.94 2.06.94-2.06 2.06-.94-2.06-.94-.94-2.06-.94 2.06-2.06.94zm-11 1L8.5 8.5l.94-2.06 2.06-.94-2.06-.94L8.5 2.5l-.94 2.06-2.06.94zm10 10l.94 2.06.94-2.06 2.06-.94-2.06-.94-.94-2.06-.94 2.06-2.06.94z\"/><path d=\"M17.41 7.96l-1.37-1.37c-.4-.4-.92-.59-1.43-.59-.52 0-1.04.2-1.43.59L10.3 9.45l-7.72 7.72c-.78.78-.78 2.05 0 2.83L4 21.41c.39.39.9.59 1.41.59.51 0 1.02-.2 1.41-.59l7.78-7.78 2.81-2.81c.8-.78.8-2.07 0-2.86zM5.41 20L4 18.59l7.72-7.72 1.47 1.35L5.41 20z\"/>\n",
              "  </svg>\n",
              "      </button>\n",
              "      \n",
              "  <style>\n",
              "    .colab-df-container {\n",
              "      display:flex;\n",
              "      flex-wrap:wrap;\n",
              "      gap: 12px;\n",
              "    }\n",
              "\n",
              "    .colab-df-convert {\n",
              "      background-color: #E8F0FE;\n",
              "      border: none;\n",
              "      border-radius: 50%;\n",
              "      cursor: pointer;\n",
              "      display: none;\n",
              "      fill: #1967D2;\n",
              "      height: 32px;\n",
              "      padding: 0 0 0 0;\n",
              "      width: 32px;\n",
              "    }\n",
              "\n",
              "    .colab-df-convert:hover {\n",
              "      background-color: #E2EBFA;\n",
              "      box-shadow: 0px 1px 2px rgba(60, 64, 67, 0.3), 0px 1px 3px 1px rgba(60, 64, 67, 0.15);\n",
              "      fill: #174EA6;\n",
              "    }\n",
              "\n",
              "    [theme=dark] .colab-df-convert {\n",
              "      background-color: #3B4455;\n",
              "      fill: #D2E3FC;\n",
              "    }\n",
              "\n",
              "    [theme=dark] .colab-df-convert:hover {\n",
              "      background-color: #434B5C;\n",
              "      box-shadow: 0px 1px 3px 1px rgba(0, 0, 0, 0.15);\n",
              "      filter: drop-shadow(0px 1px 2px rgba(0, 0, 0, 0.3));\n",
              "      fill: #FFFFFF;\n",
              "    }\n",
              "  </style>\n",
              "\n",
              "      <script>\n",
              "        const buttonEl =\n",
              "          document.querySelector('#df-d98336f7-f5ee-4590-8ac8-10a31f6d9589 button.colab-df-convert');\n",
              "        buttonEl.style.display =\n",
              "          google.colab.kernel.accessAllowed ? 'block' : 'none';\n",
              "\n",
              "        async function convertToInteractive(key) {\n",
              "          const element = document.querySelector('#df-d98336f7-f5ee-4590-8ac8-10a31f6d9589');\n",
              "          const dataTable =\n",
              "            await google.colab.kernel.invokeFunction('convertToInteractive',\n",
              "                                                     [key], {});\n",
              "          if (!dataTable) return;\n",
              "\n",
              "          const docLinkHtml = 'Like what you see? Visit the ' +\n",
              "            '<a target=\"_blank\" href=https://colab.research.google.com/notebooks/data_table.ipynb>data table notebook</a>'\n",
              "            + ' to learn more about interactive tables.';\n",
              "          element.innerHTML = '';\n",
              "          dataTable['output_type'] = 'display_data';\n",
              "          await google.colab.output.renderOutput(dataTable, element);\n",
              "          const docLink = document.createElement('div');\n",
              "          docLink.innerHTML = docLinkHtml;\n",
              "          element.appendChild(docLink);\n",
              "        }\n",
              "      </script>\n",
              "    </div>\n",
              "  </div>\n",
              "  "
            ]
          },
          "metadata": {},
          "execution_count": 33
        }
      ],
      "source": [
        "train_data.head(3)"
      ]
    },
    {
      "cell_type": "code",
      "execution_count": null,
      "id": "b9965cc2-bb5c-4ccd-8095-dac367deb68b",
      "metadata": {
        "id": "b9965cc2-bb5c-4ccd-8095-dac367deb68b",
        "outputId": "62652665-b784-407c-dbb3-413548d684d2",
        "colab": {
          "base_uri": "https://localhost:8080/"
        }
      },
      "outputs": [
        {
          "output_type": "stream",
          "name": "stdout",
          "text": [
            "['customer_id', 'article_id', 'price', 'product_group_name', 'department_name', 'section_name', 'nArticles', 'nDays', 'nPurchases', 'minPrice', 'maxPrice', 'meanPrice', 'nPGroups', 'nDept', 'nSect', 'label1']\n"
          ]
        }
      ],
      "source": [
        "print(list(trainDF))"
      ]
    },
    {
      "cell_type": "code",
      "source": [
        "trainDF.head(3)"
      ],
      "metadata": {
        "colab": {
          "base_uri": "https://localhost:8080/",
          "height": 260
        },
        "id": "xGOVMWZJwmfE",
        "outputId": "795c9522-91ec-477e-dc03-a36a5d6863ab"
      },
      "id": "xGOVMWZJwmfE",
      "execution_count": null,
      "outputs": [
        {
          "output_type": "execute_result",
          "data": {
            "text/plain": [
              "                                         customer_id  article_id     price  \\\n",
              "0  0001f8cef6b9702d54abf66fd89eb21014bf98567065a9...   855834001  0.015831   \n",
              "1  0001f8cef6b9702d54abf66fd89eb21014bf98567065a9...   836130002  0.015831   \n",
              "2  0001f8cef6b9702d54abf66fd89eb21014bf98567065a9...   808841001  0.016932   \n",
              "\n",
              "   product_group_name department_name        section_name  nArticles  nDays  \\\n",
              "0   Garment Full body         Dresses  Divided Collection        6.0    4.0   \n",
              "1   Garment Full body         Dresses  Divided Collection        6.0    4.0   \n",
              "2  Garment Lower body          Skirts  Divided Collection        6.0    4.0   \n",
              "\n",
              "   nPurchases  minPrice  maxPrice  meanPrice  nPGroups  nDept  nSect  label1  \n",
              "0         6.0  0.010153  0.027102    0.01713       3.0    5.0    3.0       1  \n",
              "1         6.0  0.010153  0.027102    0.01713       3.0    5.0    3.0       1  \n",
              "2         6.0  0.010153  0.027102    0.01713       3.0    5.0    3.0       1  "
            ],
            "text/html": [
              "\n",
              "  <div id=\"df-560e7474-8232-42d7-ad3d-5840f07fc99f\">\n",
              "    <div class=\"colab-df-container\">\n",
              "      <div>\n",
              "<style scoped>\n",
              "    .dataframe tbody tr th:only-of-type {\n",
              "        vertical-align: middle;\n",
              "    }\n",
              "\n",
              "    .dataframe tbody tr th {\n",
              "        vertical-align: top;\n",
              "    }\n",
              "\n",
              "    .dataframe thead th {\n",
              "        text-align: right;\n",
              "    }\n",
              "</style>\n",
              "<table border=\"1\" class=\"dataframe\">\n",
              "  <thead>\n",
              "    <tr style=\"text-align: right;\">\n",
              "      <th></th>\n",
              "      <th>customer_id</th>\n",
              "      <th>article_id</th>\n",
              "      <th>price</th>\n",
              "      <th>product_group_name</th>\n",
              "      <th>department_name</th>\n",
              "      <th>section_name</th>\n",
              "      <th>nArticles</th>\n",
              "      <th>nDays</th>\n",
              "      <th>nPurchases</th>\n",
              "      <th>minPrice</th>\n",
              "      <th>maxPrice</th>\n",
              "      <th>meanPrice</th>\n",
              "      <th>nPGroups</th>\n",
              "      <th>nDept</th>\n",
              "      <th>nSect</th>\n",
              "      <th>label1</th>\n",
              "    </tr>\n",
              "  </thead>\n",
              "  <tbody>\n",
              "    <tr>\n",
              "      <th>0</th>\n",
              "      <td>0001f8cef6b9702d54abf66fd89eb21014bf98567065a9...</td>\n",
              "      <td>855834001</td>\n",
              "      <td>0.015831</td>\n",
              "      <td>Garment Full body</td>\n",
              "      <td>Dresses</td>\n",
              "      <td>Divided Collection</td>\n",
              "      <td>6.0</td>\n",
              "      <td>4.0</td>\n",
              "      <td>6.0</td>\n",
              "      <td>0.010153</td>\n",
              "      <td>0.027102</td>\n",
              "      <td>0.01713</td>\n",
              "      <td>3.0</td>\n",
              "      <td>5.0</td>\n",
              "      <td>3.0</td>\n",
              "      <td>1</td>\n",
              "    </tr>\n",
              "    <tr>\n",
              "      <th>1</th>\n",
              "      <td>0001f8cef6b9702d54abf66fd89eb21014bf98567065a9...</td>\n",
              "      <td>836130002</td>\n",
              "      <td>0.015831</td>\n",
              "      <td>Garment Full body</td>\n",
              "      <td>Dresses</td>\n",
              "      <td>Divided Collection</td>\n",
              "      <td>6.0</td>\n",
              "      <td>4.0</td>\n",
              "      <td>6.0</td>\n",
              "      <td>0.010153</td>\n",
              "      <td>0.027102</td>\n",
              "      <td>0.01713</td>\n",
              "      <td>3.0</td>\n",
              "      <td>5.0</td>\n",
              "      <td>3.0</td>\n",
              "      <td>1</td>\n",
              "    </tr>\n",
              "    <tr>\n",
              "      <th>2</th>\n",
              "      <td>0001f8cef6b9702d54abf66fd89eb21014bf98567065a9...</td>\n",
              "      <td>808841001</td>\n",
              "      <td>0.016932</td>\n",
              "      <td>Garment Lower body</td>\n",
              "      <td>Skirts</td>\n",
              "      <td>Divided Collection</td>\n",
              "      <td>6.0</td>\n",
              "      <td>4.0</td>\n",
              "      <td>6.0</td>\n",
              "      <td>0.010153</td>\n",
              "      <td>0.027102</td>\n",
              "      <td>0.01713</td>\n",
              "      <td>3.0</td>\n",
              "      <td>5.0</td>\n",
              "      <td>3.0</td>\n",
              "      <td>1</td>\n",
              "    </tr>\n",
              "  </tbody>\n",
              "</table>\n",
              "</div>\n",
              "      <button class=\"colab-df-convert\" onclick=\"convertToInteractive('df-560e7474-8232-42d7-ad3d-5840f07fc99f')\"\n",
              "              title=\"Convert this dataframe to an interactive table.\"\n",
              "              style=\"display:none;\">\n",
              "        \n",
              "  <svg xmlns=\"http://www.w3.org/2000/svg\" height=\"24px\"viewBox=\"0 0 24 24\"\n",
              "       width=\"24px\">\n",
              "    <path d=\"M0 0h24v24H0V0z\" fill=\"none\"/>\n",
              "    <path d=\"M18.56 5.44l.94 2.06.94-2.06 2.06-.94-2.06-.94-.94-2.06-.94 2.06-2.06.94zm-11 1L8.5 8.5l.94-2.06 2.06-.94-2.06-.94L8.5 2.5l-.94 2.06-2.06.94zm10 10l.94 2.06.94-2.06 2.06-.94-2.06-.94-.94-2.06-.94 2.06-2.06.94z\"/><path d=\"M17.41 7.96l-1.37-1.37c-.4-.4-.92-.59-1.43-.59-.52 0-1.04.2-1.43.59L10.3 9.45l-7.72 7.72c-.78.78-.78 2.05 0 2.83L4 21.41c.39.39.9.59 1.41.59.51 0 1.02-.2 1.41-.59l7.78-7.78 2.81-2.81c.8-.78.8-2.07 0-2.86zM5.41 20L4 18.59l7.72-7.72 1.47 1.35L5.41 20z\"/>\n",
              "  </svg>\n",
              "      </button>\n",
              "      \n",
              "  <style>\n",
              "    .colab-df-container {\n",
              "      display:flex;\n",
              "      flex-wrap:wrap;\n",
              "      gap: 12px;\n",
              "    }\n",
              "\n",
              "    .colab-df-convert {\n",
              "      background-color: #E8F0FE;\n",
              "      border: none;\n",
              "      border-radius: 50%;\n",
              "      cursor: pointer;\n",
              "      display: none;\n",
              "      fill: #1967D2;\n",
              "      height: 32px;\n",
              "      padding: 0 0 0 0;\n",
              "      width: 32px;\n",
              "    }\n",
              "\n",
              "    .colab-df-convert:hover {\n",
              "      background-color: #E2EBFA;\n",
              "      box-shadow: 0px 1px 2px rgba(60, 64, 67, 0.3), 0px 1px 3px 1px rgba(60, 64, 67, 0.15);\n",
              "      fill: #174EA6;\n",
              "    }\n",
              "\n",
              "    [theme=dark] .colab-df-convert {\n",
              "      background-color: #3B4455;\n",
              "      fill: #D2E3FC;\n",
              "    }\n",
              "\n",
              "    [theme=dark] .colab-df-convert:hover {\n",
              "      background-color: #434B5C;\n",
              "      box-shadow: 0px 1px 3px 1px rgba(0, 0, 0, 0.15);\n",
              "      filter: drop-shadow(0px 1px 2px rgba(0, 0, 0, 0.3));\n",
              "      fill: #FFFFFF;\n",
              "    }\n",
              "  </style>\n",
              "\n",
              "      <script>\n",
              "        const buttonEl =\n",
              "          document.querySelector('#df-560e7474-8232-42d7-ad3d-5840f07fc99f button.colab-df-convert');\n",
              "        buttonEl.style.display =\n",
              "          google.colab.kernel.accessAllowed ? 'block' : 'none';\n",
              "\n",
              "        async function convertToInteractive(key) {\n",
              "          const element = document.querySelector('#df-560e7474-8232-42d7-ad3d-5840f07fc99f');\n",
              "          const dataTable =\n",
              "            await google.colab.kernel.invokeFunction('convertToInteractive',\n",
              "                                                     [key], {});\n",
              "          if (!dataTable) return;\n",
              "\n",
              "          const docLinkHtml = 'Like what you see? Visit the ' +\n",
              "            '<a target=\"_blank\" href=https://colab.research.google.com/notebooks/data_table.ipynb>data table notebook</a>'\n",
              "            + ' to learn more about interactive tables.';\n",
              "          element.innerHTML = '';\n",
              "          dataTable['output_type'] = 'display_data';\n",
              "          await google.colab.output.renderOutput(dataTable, element);\n",
              "          const docLink = document.createElement('div');\n",
              "          docLink.innerHTML = docLinkHtml;\n",
              "          element.appendChild(docLink);\n",
              "        }\n",
              "      </script>\n",
              "    </div>\n",
              "  </div>\n",
              "  "
            ]
          },
          "metadata": {},
          "execution_count": 28
        }
      ]
    },
    {
      "cell_type": "markdown",
      "id": "857e7128-8eee-4b15-a6dd-14b8ba62301c",
      "metadata": {
        "id": "857e7128-8eee-4b15-a6dd-14b8ba62301c"
      },
      "source": [
        "## Single Task Ranker\n",
        "\n",
        "We begin by training a single task ranker for the task of predicting whether the user will purchase a given article or not."
      ]
    },
    {
      "cell_type": "code",
      "execution_count": null,
      "id": "1a069406-b11d-4e39-a902-a7e402c9c718",
      "metadata": {
        "scrolled": true,
        "tags": [],
        "id": "1a069406-b11d-4e39-a902-a7e402c9c718",
        "outputId": "e96c9c16-e819-41cb-f25c-71bc3b20908b",
        "colab": {
          "base_uri": "https://localhost:8080/"
        }
      },
      "outputs": [
        {
          "output_type": "stream",
          "name": "stdout",
          "text": [
            "Epoch 1/10\n",
            "100/100 [==============================] - 1s 2ms/step - loss: 0.8460 - binary_accuracy: 0.5305\n",
            "Epoch 2/10\n",
            "100/100 [==============================] - 0s 2ms/step - loss: 0.5248 - binary_accuracy: 0.7937\n",
            "Epoch 3/10\n",
            "100/100 [==============================] - 0s 2ms/step - loss: 0.4788 - binary_accuracy: 0.8066\n",
            "Epoch 4/10\n",
            "100/100 [==============================] - 0s 2ms/step - loss: 0.4531 - binary_accuracy: 0.8086\n",
            "Epoch 5/10\n",
            "100/100 [==============================] - 0s 2ms/step - loss: 0.4377 - binary_accuracy: 0.8123\n",
            "Epoch 6/10\n",
            "100/100 [==============================] - 0s 2ms/step - loss: 0.4276 - binary_accuracy: 0.8154\n",
            "Epoch 7/10\n",
            "100/100 [==============================] - 0s 2ms/step - loss: 0.4205 - binary_accuracy: 0.8165\n",
            "Epoch 8/10\n",
            "100/100 [==============================] - 0s 2ms/step - loss: 0.4157 - binary_accuracy: 0.8174\n",
            "Epoch 9/10\n",
            "100/100 [==============================] - 0s 2ms/step - loss: 0.4129 - binary_accuracy: 0.8172\n",
            "Epoch 10/10\n",
            "100/100 [==============================] - 0s 2ms/step - loss: 0.4102 - binary_accuracy: 0.8167\n"
          ]
        },
        {
          "output_type": "execute_result",
          "data": {
            "text/plain": [
              "<keras.callbacks.History at 0x7feb990c9a10>"
            ]
          },
          "metadata": {},
          "execution_count": 40
        }
      ],
      "source": [
        "\n",
        "numFeatures = ['nArticles','nDays','nPurchases','minPrice','maxPrice','meanPrice','nPGroups','nDept','nSect']\n",
        "catFeatures = ['product_group_name']\n",
        "X1 = np.asarray(train_data[numFeatures].values)\n",
        "y1 = np.asarray(train_data['label1'].values)\n",
        "\n",
        "inp1 = tf.keras.Input((len(numFeatures)))\n",
        "#inp2 = tf.keras.Input((len(catFeatures)),dtype='str')\n",
        "#inp2 = tf.keras.Input((len(catFeatures)))\n",
        "\n",
        "unique_article_ids = article_df.article_id.unique().astype(str)\n",
        "\n",
        "\n",
        "x1 = tf.keras.layers.Dense(32, activation='relu')(inp1)\n",
        "embedding_dimension=50\n",
        "#xx2 = tf.keras.layers.StringLookup(vocabulary=unique_article_ids, mask_token=None)(inp2)\n",
        "#xx2 = tf.keras.layers.Embedding(len(unique_article_ids) + 1, embedding_dimension)(xx2)\n",
        "#xx2 = tf.keras.layers.Flatten()(xx2)\n",
        "#x2 = tf.keras.layers.Dense(32, activation='relu')(xx2)\n",
        "\n",
        "#x12 = tf.keras.layers.concatenate([x1,x2])\n",
        "#out1 = tf.keras.layers.Dense(1, activation='sigmoid')(x12)\n",
        "out1 = tf.keras.layers.Dense(1, activation='sigmoid')(x1)\n",
        "#out2 = tf.keras.layers.Dense(2, activation='softmax')(x123)\n",
        "#m = tf.keras.Model([inp,inp2,inp3], [out1,out2])\n",
        "bce = tf.keras.losses.BinaryCrossentropy(from_logits=False)\n",
        "metric = tf.keras.metrics.BinaryAccuracy()\n",
        "m = tf.keras.Model([inp1], out1)\n",
        "m.compile(loss=bce,\n",
        "          optimizer='adam',\n",
        "          metrics=[metric])\n",
        "\n",
        "m.fit([X1], [y1], epochs=10, verbose=1,batch_size=1000)\n",
        "\n",
        "#m.evaluate([X1,X2], [y1])"
      ]
    },
    {
      "cell_type": "code",
      "execution_count": null,
      "id": "3d1f7480-1848-4ec5-8384-e18eec2541f7",
      "metadata": {
        "id": "3d1f7480-1848-4ec5-8384-e18eec2541f7",
        "outputId": "769bdde9-30a8-4a67-9371-d0ccb50e54ef",
        "colab": {
          "base_uri": "https://localhost:8080/"
        }
      },
      "outputs": [
        {
          "output_type": "stream",
          "name": "stdout",
          "text": [
            "Model: \"model_3\"\n",
            "_________________________________________________________________\n",
            " Layer (type)                Output Shape              Param #   \n",
            "=================================================================\n",
            " input_4 (InputLayer)        [(None, 9)]               0         \n",
            "                                                                 \n",
            " dense_6 (Dense)             (None, 32)                320       \n",
            "                                                                 \n",
            " dense_7 (Dense)             (None, 1)                 33        \n",
            "                                                                 \n",
            "=================================================================\n",
            "Total params: 353\n",
            "Trainable params: 353\n",
            "Non-trainable params: 0\n",
            "_________________________________________________________________\n"
          ]
        }
      ],
      "source": [
        "m.summary()"
      ]
    },
    {
      "cell_type": "code",
      "source": [
        "# eval performance\n",
        "X1_test = np.asarray(test_data[numFeatures].values)\n",
        "y1_test = np.asarray(test_data['label1'].values)\n",
        "\n",
        "m.evaluate([X1_test], [y1_test])"
      ],
      "metadata": {
        "colab": {
          "base_uri": "https://localhost:8080/"
        },
        "id": "gJLv0XSHHlLy",
        "outputId": "40f452d9-8cf4-4318-b65a-1fb5dc6b71d1"
      },
      "id": "gJLv0XSHHlLy",
      "execution_count": null,
      "outputs": [
        {
          "output_type": "stream",
          "name": "stdout",
          "text": [
            "625/625 [==============================] - 1s 2ms/step - loss: 0.3199 - binary_accuracy: 0.8652\n"
          ]
        },
        {
          "output_type": "execute_result",
          "data": {
            "text/plain": [
              "[0.3199203908443451, 0.8651999831199646]"
            ]
          },
          "metadata": {},
          "execution_count": 42
        }
      ]
    },
    {
      "cell_type": "markdown",
      "id": "65ada5f3-8157-4088-95b8-8e17989b2d52",
      "metadata": {
        "id": "65ada5f3-8157-4088-95b8-8e17989b2d52"
      },
      "source": [
        "### **From single to multi-task recommendation model**\n",
        "We can now add another task to enrich the single task model to multi-task model. To do so, we first have to decide what the task 2 would be.\n",
        "\n",
        "By looking at the data we have, we hypothesize that being able to predict whether or not a customer would purchase an article from certain product category would be a good learnt model to have. Indeed, being able to predict which category would the user purchase in would help us narrow down the list of recommendations we want to surface infront of users.\n",
        "\n",
        "Based on this intuition, we want to develop a multi-task model with 2 tasks:\n",
        "1. Task 1: predict whether or not a user would purchase an article\n",
        "2. Task 2: predict whether or not a user would purchase any article from a given category\n",
        "\n",
        "The training data we have created thus far is solely based on prediction task 1: predicting whether or not a user would purchase a given article. Corredpondingly, in trainDF dataframe we have collected positive and nagetive examples for this task, and have added a label1 column as the final label to train the model.\n",
        "\n",
        "To develop a multi-task model for these two tasks, we will now need to add a label for the second task in the same dataset: trainDF. To do so, we will need to add a column: label2 to this dataframe -- for each row, we will need to identify whether the user has made any purchase in this category or not, and if the user has made a purchase in this category, then we will assign label2 = 1, else label2 = 0. Please note that for the same training example, it may happen that label1 = 0 but label2 = 1; this would happen in cases wherein the customer did not purchase this specific article but did purchase any other article from this category.\n",
        "\n",
        "The goal for this project is to write the function that adds this label2 column to the trainDF dataframe, to enable us to train a multi-task model."
      ]
    },
    {
      "cell_type": "code",
      "source": [
        "bought_products = joinedF[['customer_id', 'section_name']].drop_duplicates()"
      ],
      "metadata": {
        "id": "l4h-juIV-yY4"
      },
      "id": "l4h-juIV-yY4",
      "execution_count": null,
      "outputs": []
    },
    {
      "cell_type": "code",
      "source": [
        "# compute categories per user\n",
        "customer_categories = bought_products.groupby(\"customer_id\", as_index=False).section_name.agg(['unique']).reset_index()\n",
        "customer_categories.rename(columns={\"unique\": \"customer_sections\"}, inplace=True)\n",
        "customer_categories.head(3)"
      ],
      "metadata": {
        "colab": {
          "base_uri": "https://localhost:8080/",
          "height": 143
        },
        "id": "UTJhxZz3QDVe",
        "outputId": "3de47278-311a-43d0-a134-3932b949a585"
      },
      "id": "UTJhxZz3QDVe",
      "execution_count": null,
      "outputs": [
        {
          "output_type": "execute_result",
          "data": {
            "text/plain": [
              "                                         customer_id     customer_sections\n",
              "0  00000dbacae5abe5e23885899a1fa44253a17956c6d1c3...    [Womens Tailoring]\n",
              "1  0000423b00ade91418cceaf3b26c6af3dd342b51fd051e...  [Divided Collection]\n",
              "2  000058a12d5b43e67d225668fa1f8d618c13dc232df0ca...    [Ladies H&M Sport]"
            ],
            "text/html": [
              "\n",
              "  <div id=\"df-8a19ed88-f0e6-445a-a47e-72dbcdc65673\">\n",
              "    <div class=\"colab-df-container\">\n",
              "      <div>\n",
              "<style scoped>\n",
              "    .dataframe tbody tr th:only-of-type {\n",
              "        vertical-align: middle;\n",
              "    }\n",
              "\n",
              "    .dataframe tbody tr th {\n",
              "        vertical-align: top;\n",
              "    }\n",
              "\n",
              "    .dataframe thead th {\n",
              "        text-align: right;\n",
              "    }\n",
              "</style>\n",
              "<table border=\"1\" class=\"dataframe\">\n",
              "  <thead>\n",
              "    <tr style=\"text-align: right;\">\n",
              "      <th></th>\n",
              "      <th>customer_id</th>\n",
              "      <th>customer_sections</th>\n",
              "    </tr>\n",
              "  </thead>\n",
              "  <tbody>\n",
              "    <tr>\n",
              "      <th>0</th>\n",
              "      <td>00000dbacae5abe5e23885899a1fa44253a17956c6d1c3...</td>\n",
              "      <td>[Womens Tailoring]</td>\n",
              "    </tr>\n",
              "    <tr>\n",
              "      <th>1</th>\n",
              "      <td>0000423b00ade91418cceaf3b26c6af3dd342b51fd051e...</td>\n",
              "      <td>[Divided Collection]</td>\n",
              "    </tr>\n",
              "    <tr>\n",
              "      <th>2</th>\n",
              "      <td>000058a12d5b43e67d225668fa1f8d618c13dc232df0ca...</td>\n",
              "      <td>[Ladies H&amp;M Sport]</td>\n",
              "    </tr>\n",
              "  </tbody>\n",
              "</table>\n",
              "</div>\n",
              "      <button class=\"colab-df-convert\" onclick=\"convertToInteractive('df-8a19ed88-f0e6-445a-a47e-72dbcdc65673')\"\n",
              "              title=\"Convert this dataframe to an interactive table.\"\n",
              "              style=\"display:none;\">\n",
              "        \n",
              "  <svg xmlns=\"http://www.w3.org/2000/svg\" height=\"24px\"viewBox=\"0 0 24 24\"\n",
              "       width=\"24px\">\n",
              "    <path d=\"M0 0h24v24H0V0z\" fill=\"none\"/>\n",
              "    <path d=\"M18.56 5.44l.94 2.06.94-2.06 2.06-.94-2.06-.94-.94-2.06-.94 2.06-2.06.94zm-11 1L8.5 8.5l.94-2.06 2.06-.94-2.06-.94L8.5 2.5l-.94 2.06-2.06.94zm10 10l.94 2.06.94-2.06 2.06-.94-2.06-.94-.94-2.06-.94 2.06-2.06.94z\"/><path d=\"M17.41 7.96l-1.37-1.37c-.4-.4-.92-.59-1.43-.59-.52 0-1.04.2-1.43.59L10.3 9.45l-7.72 7.72c-.78.78-.78 2.05 0 2.83L4 21.41c.39.39.9.59 1.41.59.51 0 1.02-.2 1.41-.59l7.78-7.78 2.81-2.81c.8-.78.8-2.07 0-2.86zM5.41 20L4 18.59l7.72-7.72 1.47 1.35L5.41 20z\"/>\n",
              "  </svg>\n",
              "      </button>\n",
              "      \n",
              "  <style>\n",
              "    .colab-df-container {\n",
              "      display:flex;\n",
              "      flex-wrap:wrap;\n",
              "      gap: 12px;\n",
              "    }\n",
              "\n",
              "    .colab-df-convert {\n",
              "      background-color: #E8F0FE;\n",
              "      border: none;\n",
              "      border-radius: 50%;\n",
              "      cursor: pointer;\n",
              "      display: none;\n",
              "      fill: #1967D2;\n",
              "      height: 32px;\n",
              "      padding: 0 0 0 0;\n",
              "      width: 32px;\n",
              "    }\n",
              "\n",
              "    .colab-df-convert:hover {\n",
              "      background-color: #E2EBFA;\n",
              "      box-shadow: 0px 1px 2px rgba(60, 64, 67, 0.3), 0px 1px 3px 1px rgba(60, 64, 67, 0.15);\n",
              "      fill: #174EA6;\n",
              "    }\n",
              "\n",
              "    [theme=dark] .colab-df-convert {\n",
              "      background-color: #3B4455;\n",
              "      fill: #D2E3FC;\n",
              "    }\n",
              "\n",
              "    [theme=dark] .colab-df-convert:hover {\n",
              "      background-color: #434B5C;\n",
              "      box-shadow: 0px 1px 3px 1px rgba(0, 0, 0, 0.15);\n",
              "      filter: drop-shadow(0px 1px 2px rgba(0, 0, 0, 0.3));\n",
              "      fill: #FFFFFF;\n",
              "    }\n",
              "  </style>\n",
              "\n",
              "      <script>\n",
              "        const buttonEl =\n",
              "          document.querySelector('#df-8a19ed88-f0e6-445a-a47e-72dbcdc65673 button.colab-df-convert');\n",
              "        buttonEl.style.display =\n",
              "          google.colab.kernel.accessAllowed ? 'block' : 'none';\n",
              "\n",
              "        async function convertToInteractive(key) {\n",
              "          const element = document.querySelector('#df-8a19ed88-f0e6-445a-a47e-72dbcdc65673');\n",
              "          const dataTable =\n",
              "            await google.colab.kernel.invokeFunction('convertToInteractive',\n",
              "                                                     [key], {});\n",
              "          if (!dataTable) return;\n",
              "\n",
              "          const docLinkHtml = 'Like what you see? Visit the ' +\n",
              "            '<a target=\"_blank\" href=https://colab.research.google.com/notebooks/data_table.ipynb>data table notebook</a>'\n",
              "            + ' to learn more about interactive tables.';\n",
              "          element.innerHTML = '';\n",
              "          dataTable['output_type'] = 'display_data';\n",
              "          await google.colab.output.renderOutput(dataTable, element);\n",
              "          const docLink = document.createElement('div');\n",
              "          docLink.innerHTML = docLinkHtml;\n",
              "          element.appendChild(docLink);\n",
              "        }\n",
              "      </script>\n",
              "    </div>\n",
              "  </div>\n",
              "  "
            ]
          },
          "metadata": {},
          "execution_count": 48
        }
      ]
    },
    {
      "cell_type": "code",
      "source": [
        "trainDF = pd.merge(trainDF, customer_categories, on='customer_id', how='left')"
      ],
      "metadata": {
        "id": "Yw6LXK3WRkCZ"
      },
      "id": "Yw6LXK3WRkCZ",
      "execution_count": null,
      "outputs": []
    },
    {
      "cell_type": "code",
      "source": [
        "trainDF.shape"
      ],
      "metadata": {
        "colab": {
          "base_uri": "https://localhost:8080/"
        },
        "id": "DrpTYTWfR6Qz",
        "outputId": "7ac70778-59a0-4486-acee-30208f38f25e"
      },
      "id": "DrpTYTWfR6Qz",
      "execution_count": null,
      "outputs": [
        {
          "output_type": "execute_result",
          "data": {
            "text/plain": [
              "(120000, 18)"
            ]
          },
          "metadata": {},
          "execution_count": 52
        }
      ]
    },
    {
      "cell_type": "code",
      "execution_count": null,
      "id": "39b6f339-ccae-4cb8-949d-dc7947333bf1",
      "metadata": {
        "id": "39b6f339-ccae-4cb8-949d-dc7947333bf1",
        "colab": {
          "base_uri": "https://localhost:8080/",
          "height": 246
        },
        "outputId": "659bbfae-329a-4bea-cc96-9ea0f7ad95f6"
      },
      "outputs": [
        {
          "output_type": "execute_result",
          "data": {
            "text/plain": [
              "                                         customer_id  article_id     price  \\\n",
              "0  0001f8cef6b9702d54abf66fd89eb21014bf98567065a9...   855834001  0.015831   \n",
              "1  0001f8cef6b9702d54abf66fd89eb21014bf98567065a9...   836130002  0.015831   \n",
              "\n",
              "  product_group_name department_name        section_name  nArticles  nDays  \\\n",
              "0  Garment Full body         Dresses  Divided Collection        6.0    4.0   \n",
              "1  Garment Full body         Dresses  Divided Collection        6.0    4.0   \n",
              "\n",
              "   nPurchases  minPrice  maxPrice  meanPrice  nPGroups  nDept  nSect  label1  \\\n",
              "0         6.0  0.010153  0.027102    0.01713       3.0    5.0    3.0       1   \n",
              "1         6.0  0.010153  0.027102    0.01713       3.0    5.0    3.0       1   \n",
              "\n",
              "                                   customer_sections  label2  \n",
              "0  [Divided Collection, Womens Everyday Collectio...       1  \n",
              "1  [Divided Collection, Womens Everyday Collectio...       1  "
            ],
            "text/html": [
              "\n",
              "  <div id=\"df-be1a4291-c7ef-490c-bb50-9b3f430db5ec\">\n",
              "    <div class=\"colab-df-container\">\n",
              "      <div>\n",
              "<style scoped>\n",
              "    .dataframe tbody tr th:only-of-type {\n",
              "        vertical-align: middle;\n",
              "    }\n",
              "\n",
              "    .dataframe tbody tr th {\n",
              "        vertical-align: top;\n",
              "    }\n",
              "\n",
              "    .dataframe thead th {\n",
              "        text-align: right;\n",
              "    }\n",
              "</style>\n",
              "<table border=\"1\" class=\"dataframe\">\n",
              "  <thead>\n",
              "    <tr style=\"text-align: right;\">\n",
              "      <th></th>\n",
              "      <th>customer_id</th>\n",
              "      <th>article_id</th>\n",
              "      <th>price</th>\n",
              "      <th>product_group_name</th>\n",
              "      <th>department_name</th>\n",
              "      <th>section_name</th>\n",
              "      <th>nArticles</th>\n",
              "      <th>nDays</th>\n",
              "      <th>nPurchases</th>\n",
              "      <th>minPrice</th>\n",
              "      <th>maxPrice</th>\n",
              "      <th>meanPrice</th>\n",
              "      <th>nPGroups</th>\n",
              "      <th>nDept</th>\n",
              "      <th>nSect</th>\n",
              "      <th>label1</th>\n",
              "      <th>customer_sections</th>\n",
              "      <th>label2</th>\n",
              "    </tr>\n",
              "  </thead>\n",
              "  <tbody>\n",
              "    <tr>\n",
              "      <th>0</th>\n",
              "      <td>0001f8cef6b9702d54abf66fd89eb21014bf98567065a9...</td>\n",
              "      <td>855834001</td>\n",
              "      <td>0.015831</td>\n",
              "      <td>Garment Full body</td>\n",
              "      <td>Dresses</td>\n",
              "      <td>Divided Collection</td>\n",
              "      <td>6.0</td>\n",
              "      <td>4.0</td>\n",
              "      <td>6.0</td>\n",
              "      <td>0.010153</td>\n",
              "      <td>0.027102</td>\n",
              "      <td>0.01713</td>\n",
              "      <td>3.0</td>\n",
              "      <td>5.0</td>\n",
              "      <td>3.0</td>\n",
              "      <td>1</td>\n",
              "      <td>[Divided Collection, Womens Everyday Collectio...</td>\n",
              "      <td>1</td>\n",
              "    </tr>\n",
              "    <tr>\n",
              "      <th>1</th>\n",
              "      <td>0001f8cef6b9702d54abf66fd89eb21014bf98567065a9...</td>\n",
              "      <td>836130002</td>\n",
              "      <td>0.015831</td>\n",
              "      <td>Garment Full body</td>\n",
              "      <td>Dresses</td>\n",
              "      <td>Divided Collection</td>\n",
              "      <td>6.0</td>\n",
              "      <td>4.0</td>\n",
              "      <td>6.0</td>\n",
              "      <td>0.010153</td>\n",
              "      <td>0.027102</td>\n",
              "      <td>0.01713</td>\n",
              "      <td>3.0</td>\n",
              "      <td>5.0</td>\n",
              "      <td>3.0</td>\n",
              "      <td>1</td>\n",
              "      <td>[Divided Collection, Womens Everyday Collectio...</td>\n",
              "      <td>1</td>\n",
              "    </tr>\n",
              "  </tbody>\n",
              "</table>\n",
              "</div>\n",
              "      <button class=\"colab-df-convert\" onclick=\"convertToInteractive('df-be1a4291-c7ef-490c-bb50-9b3f430db5ec')\"\n",
              "              title=\"Convert this dataframe to an interactive table.\"\n",
              "              style=\"display:none;\">\n",
              "        \n",
              "  <svg xmlns=\"http://www.w3.org/2000/svg\" height=\"24px\"viewBox=\"0 0 24 24\"\n",
              "       width=\"24px\">\n",
              "    <path d=\"M0 0h24v24H0V0z\" fill=\"none\"/>\n",
              "    <path d=\"M18.56 5.44l.94 2.06.94-2.06 2.06-.94-2.06-.94-.94-2.06-.94 2.06-2.06.94zm-11 1L8.5 8.5l.94-2.06 2.06-.94-2.06-.94L8.5 2.5l-.94 2.06-2.06.94zm10 10l.94 2.06.94-2.06 2.06-.94-2.06-.94-.94-2.06-.94 2.06-2.06.94z\"/><path d=\"M17.41 7.96l-1.37-1.37c-.4-.4-.92-.59-1.43-.59-.52 0-1.04.2-1.43.59L10.3 9.45l-7.72 7.72c-.78.78-.78 2.05 0 2.83L4 21.41c.39.39.9.59 1.41.59.51 0 1.02-.2 1.41-.59l7.78-7.78 2.81-2.81c.8-.78.8-2.07 0-2.86zM5.41 20L4 18.59l7.72-7.72 1.47 1.35L5.41 20z\"/>\n",
              "  </svg>\n",
              "      </button>\n",
              "      \n",
              "  <style>\n",
              "    .colab-df-container {\n",
              "      display:flex;\n",
              "      flex-wrap:wrap;\n",
              "      gap: 12px;\n",
              "    }\n",
              "\n",
              "    .colab-df-convert {\n",
              "      background-color: #E8F0FE;\n",
              "      border: none;\n",
              "      border-radius: 50%;\n",
              "      cursor: pointer;\n",
              "      display: none;\n",
              "      fill: #1967D2;\n",
              "      height: 32px;\n",
              "      padding: 0 0 0 0;\n",
              "      width: 32px;\n",
              "    }\n",
              "\n",
              "    .colab-df-convert:hover {\n",
              "      background-color: #E2EBFA;\n",
              "      box-shadow: 0px 1px 2px rgba(60, 64, 67, 0.3), 0px 1px 3px 1px rgba(60, 64, 67, 0.15);\n",
              "      fill: #174EA6;\n",
              "    }\n",
              "\n",
              "    [theme=dark] .colab-df-convert {\n",
              "      background-color: #3B4455;\n",
              "      fill: #D2E3FC;\n",
              "    }\n",
              "\n",
              "    [theme=dark] .colab-df-convert:hover {\n",
              "      background-color: #434B5C;\n",
              "      box-shadow: 0px 1px 3px 1px rgba(0, 0, 0, 0.15);\n",
              "      filter: drop-shadow(0px 1px 2px rgba(0, 0, 0, 0.3));\n",
              "      fill: #FFFFFF;\n",
              "    }\n",
              "  </style>\n",
              "\n",
              "      <script>\n",
              "        const buttonEl =\n",
              "          document.querySelector('#df-be1a4291-c7ef-490c-bb50-9b3f430db5ec button.colab-df-convert');\n",
              "        buttonEl.style.display =\n",
              "          google.colab.kernel.accessAllowed ? 'block' : 'none';\n",
              "\n",
              "        async function convertToInteractive(key) {\n",
              "          const element = document.querySelector('#df-be1a4291-c7ef-490c-bb50-9b3f430db5ec');\n",
              "          const dataTable =\n",
              "            await google.colab.kernel.invokeFunction('convertToInteractive',\n",
              "                                                     [key], {});\n",
              "          if (!dataTable) return;\n",
              "\n",
              "          const docLinkHtml = 'Like what you see? Visit the ' +\n",
              "            '<a target=\"_blank\" href=https://colab.research.google.com/notebooks/data_table.ipynb>data table notebook</a>'\n",
              "            + ' to learn more about interactive tables.';\n",
              "          element.innerHTML = '';\n",
              "          dataTable['output_type'] = 'display_data';\n",
              "          await google.colab.output.renderOutput(dataTable, element);\n",
              "          const docLink = document.createElement('div');\n",
              "          docLink.innerHTML = docLinkHtml;\n",
              "          element.appendChild(docLink);\n",
              "        }\n",
              "      </script>\n",
              "    </div>\n",
              "  </div>\n",
              "  "
            ]
          },
          "metadata": {},
          "execution_count": 51
        }
      ],
      "source": [
        "# def set_label2(c_id, c_category):\n",
        "#     customer_categories = bought_products[bought_products['customer_id'] == c_id]['section_name'].values\n",
        "\n",
        "#     if c_category in customer_categories:\n",
        "#       return 1\n",
        "#     return 0\n",
        "\n",
        "def add_label2_to_trainDF():\n",
        "    \"\"\"\n",
        "    write code here to add a new column to trainDF\n",
        "    the new column would be named label2 and it represents the label for the task 2\n",
        "    \n",
        "    After this function has been run, it can be safely assumed that trainDF dataframe contains another column called \"label2\"\n",
        "    that describes the label for the second prediction task.\n",
        "    \"\"\"\n",
        "    \n",
        "    trainDF['label2'] = trainDF.apply(lambda row: 1 if row['section_name'] in row['customer_sections'] else 0, axis=1)\n",
        "\n",
        "\n",
        "# category_purchases_df = trainDF.groupby([\"customer_id\", \"section_name\"], as_index=False)[\"label1\"].sum().rename(columns={\"label1\":\"purchases\"})\n",
        "    \n",
        "\n",
        "# np.random.randint(1, 6, df1.shape[0])\n",
        "# def generate_negative_samples(train_df, article_list, num_neg=1):\n",
        "#     negData = []\n",
        "#     for index, row in train_df.iterrows():\n",
        "#         allList = article_list\n",
        "#         cust = row['customer_id']\n",
        "#         art_list = row['article_list']\n",
        "#         allList = list(set(allList) - set(art_list))\n",
        "#         negs = random.sample(allList, num_neg)\n",
        "#         for n in negs:\n",
        "#             negData.append([cust,n])\n",
        "#     negDf = pd.DataFrame(negData,columns=['customer_id','article_id'])\n",
        "#     return negDf\n",
        "\n",
        "\n",
        "# def split(x):\n",
        "#     if x[\"t_dat\"]<\"2020-08-22\":\n",
        "#         return 1\n",
        "#     return 0\n",
        "# subset[\"train\"] = subset.apply (lambda row: split(row), axis=1)\n",
        "\n",
        "\n",
        "\n",
        "add_label2_to_trainDF()\n",
        "trainDF.head(2)"
      ]
    },
    {
      "cell_type": "code",
      "source": [
        "s = bought_products[bought_products['customer_id'] == '0001f8cef6b9702d54abf66fd89eb21014bf98567065a9b5e42f37bc99528cf5']['section_name']\n",
        "\n",
        "s"
      ],
      "metadata": {
        "colab": {
          "base_uri": "https://localhost:8080/"
        },
        "id": "cHwESqNqzSZZ",
        "outputId": "63cc35b2-9f96-48d4-937a-146969fa0be3"
      },
      "id": "cHwESqNqzSZZ",
      "execution_count": null,
      "outputs": [
        {
          "output_type": "execute_result",
          "data": {
            "text/plain": [
              "0            Divided Collection\n",
              "3    Womens Everyday Collection\n",
              "4              Womens Tailoring\n",
              "Name: section_name, dtype: object"
            ]
          },
          "metadata": {},
          "execution_count": 57
        }
      ]
    },
    {
      "cell_type": "markdown",
      "id": "f2642a24-090e-4180-9be0-e9bb27a89695",
      "metadata": {
        "id": "f2642a24-090e-4180-9be0-e9bb27a89695"
      },
      "source": [
        "Now that we have both the label1 and label2 in our dataset, we can construct a simple multi-task model with shared bottom, which we call the common layers. Building on top of the common layers, we will have two separate modules: task1 layers and task2 layers. Layers of task 1 (\"task1a\" and \"task1b\") are dedicated to learning weights that help us perform better on task1. Correspondingly, layers of task 2 (\"task2a\" and \"task2b\") are dedicated to learning weights that help us perform better on task2.\n",
        "\n",
        "Below we implement such a multi-task model."
      ]
    },
    {
      "cell_type": "code",
      "source": [
        "train_data = trainDF.head(100000)\n",
        "test_data = trainDF.tail(20000)"
      ],
      "metadata": {
        "id": "rWwxqZdHTOwC"
      },
      "id": "rWwxqZdHTOwC",
      "execution_count": null,
      "outputs": []
    },
    {
      "cell_type": "code",
      "execution_count": null,
      "id": "0790138b-204b-400e-b04d-73c605c4ea43",
      "metadata": {
        "id": "0790138b-204b-400e-b04d-73c605c4ea43",
        "outputId": "b6096ecd-7703-4906-fef3-1b84c325afd9",
        "colab": {
          "base_uri": "https://localhost:8080/"
        }
      },
      "outputs": [
        {
          "output_type": "stream",
          "name": "stdout",
          "text": [
            "Epoch 1/10\n",
            "100/100 [==============================] - 2s 7ms/step - loss: 1.0910 - out1_loss: 0.5573 - out2_loss: 0.5336 - out1_binary_accuracy: 0.7530 - out2_binary_accuracy: 0.7428\n",
            "Epoch 2/10\n",
            "100/100 [==============================] - 1s 7ms/step - loss: 0.8783 - out1_loss: 0.4239 - out2_loss: 0.4544 - out1_binary_accuracy: 0.8142 - out2_binary_accuracy: 0.7921\n",
            "Epoch 3/10\n",
            "100/100 [==============================] - 1s 7ms/step - loss: 0.8497 - out1_loss: 0.4027 - out2_loss: 0.4469 - out1_binary_accuracy: 0.8168 - out2_binary_accuracy: 0.7944\n",
            "Epoch 4/10\n",
            "100/100 [==============================] - 1s 7ms/step - loss: 0.8431 - out1_loss: 0.3980 - out2_loss: 0.4451 - out1_binary_accuracy: 0.8180 - out2_binary_accuracy: 0.7946\n",
            "Epoch 5/10\n",
            "100/100 [==============================] - 1s 7ms/step - loss: 0.8406 - out1_loss: 0.3958 - out2_loss: 0.4448 - out1_binary_accuracy: 0.8183 - out2_binary_accuracy: 0.7957\n",
            "Epoch 6/10\n",
            "100/100 [==============================] - 1s 7ms/step - loss: 0.8381 - out1_loss: 0.3941 - out2_loss: 0.4440 - out1_binary_accuracy: 0.8194 - out2_binary_accuracy: 0.7958\n",
            "Epoch 7/10\n",
            "100/100 [==============================] - 1s 7ms/step - loss: 0.8387 - out1_loss: 0.3949 - out2_loss: 0.4438 - out1_binary_accuracy: 0.8199 - out2_binary_accuracy: 0.7952\n",
            "Epoch 8/10\n",
            "100/100 [==============================] - 1s 7ms/step - loss: 0.8379 - out1_loss: 0.3942 - out2_loss: 0.4437 - out1_binary_accuracy: 0.8197 - out2_binary_accuracy: 0.7952\n",
            "Epoch 9/10\n",
            "100/100 [==============================] - 1s 7ms/step - loss: 0.8352 - out1_loss: 0.3921 - out2_loss: 0.4431 - out1_binary_accuracy: 0.8197 - out2_binary_accuracy: 0.7958\n",
            "Epoch 10/10\n",
            "100/100 [==============================] - 1s 7ms/step - loss: 0.8366 - out1_loss: 0.3929 - out2_loss: 0.4437 - out1_binary_accuracy: 0.8196 - out2_binary_accuracy: 0.7958\n"
          ]
        },
        {
          "output_type": "execute_result",
          "data": {
            "text/plain": [
              "<keras.callbacks.History at 0x7feb95135d90>"
            ]
          },
          "metadata": {},
          "execution_count": 56
        }
      ],
      "source": [
        "embedding_dimension=50\n",
        "\n",
        "numFeatures = ['nArticles','nDays','nPurchases','minPrice','maxPrice','meanPrice','nPGroups','nDept','nSect']\n",
        "catFeatures = ['product_group_name']\n",
        "X1 = np.asarray(train_data[numFeatures].values)\n",
        "y1 = np.asarray(train_data['label1'].values)\n",
        "y2 = np.asarray(train_data['label2'].values) # replace label1 by label2 here\n",
        "\n",
        "inp1 = tf.keras.Input((len(numFeatures)))\n",
        "\n",
        "unique_article_ids = article_df.article_id.unique().astype(str)\n",
        "\n",
        "\n",
        "common = tf.keras.layers.Dense(128, activation='relu',name=\"common1\")(inp1)\n",
        "common = tf.keras.layers.Dense(64, activation='relu',name=\"common2\")(common)\n",
        "\n",
        "x1 = tf.keras.layers.Dense(32, activation='relu',name=\"task1a\")(common)\n",
        "x1 = tf.keras.layers.Dense(16, activation='relu',name=\"task1b\")(x1)\n",
        "out1 = tf.keras.layers.Dense(1, activation='sigmoid',name=\"out1\")(x1)\n",
        "\n",
        "x2 = tf.keras.layers.Dense(32, activation='relu',name=\"task2a\")(common)\n",
        "x2 = tf.keras.layers.Dense(16, activation='relu',name=\"task2b\")(x2)\n",
        "out2 = tf.keras.layers.Dense(1, activation='sigmoid',name=\"out2\")(x2)\n",
        "\n",
        "\n",
        "bce = tf.keras.losses.BinaryCrossentropy(from_logits=False)\n",
        "metric = tf.keras.metrics.BinaryAccuracy()\n",
        "m2 = tf.keras.Model([inp1], [out1,out2])\n",
        "m2.compile(loss=bce,\n",
        "          optimizer='adam',\n",
        "          metrics=[metric])\n",
        "\n",
        "m2.fit([X1], [y1,y2], epochs=10, verbose=1,batch_size=1000)\n",
        "\n",
        "#m.evaluate([X1,X2], [y1])"
      ]
    },
    {
      "cell_type": "code",
      "execution_count": null,
      "id": "7a1dc2e8-e39d-4635-b5db-3fd9f36c0795",
      "metadata": {
        "id": "7a1dc2e8-e39d-4635-b5db-3fd9f36c0795",
        "outputId": "30c652e5-f8a3-4ed8-b6c2-242b781ad4ba",
        "colab": {
          "base_uri": "https://localhost:8080/"
        }
      },
      "outputs": [
        {
          "output_type": "stream",
          "name": "stdout",
          "text": [
            "Model: \"model_4\"\n",
            "__________________________________________________________________________________________________\n",
            " Layer (type)                   Output Shape         Param #     Connected to                     \n",
            "==================================================================================================\n",
            " input_5 (InputLayer)           [(None, 9)]          0           []                               \n",
            "                                                                                                  \n",
            " common1 (Dense)                (None, 128)          1280        ['input_5[0][0]']                \n",
            "                                                                                                  \n",
            " common2 (Dense)                (None, 64)           8256        ['common1[0][0]']                \n",
            "                                                                                                  \n",
            " task1a (Dense)                 (None, 32)           2080        ['common2[0][0]']                \n",
            "                                                                                                  \n",
            " task2a (Dense)                 (None, 32)           2080        ['common2[0][0]']                \n",
            "                                                                                                  \n",
            " task1b (Dense)                 (None, 16)           528         ['task1a[0][0]']                 \n",
            "                                                                                                  \n",
            " task2b (Dense)                 (None, 16)           528         ['task2a[0][0]']                 \n",
            "                                                                                                  \n",
            " out1 (Dense)                   (None, 1)            17          ['task1b[0][0]']                 \n",
            "                                                                                                  \n",
            " out2 (Dense)                   (None, 1)            17          ['task2b[0][0]']                 \n",
            "                                                                                                  \n",
            "==================================================================================================\n",
            "Total params: 14,786\n",
            "Trainable params: 14,786\n",
            "Non-trainable params: 0\n",
            "__________________________________________________________________________________________________\n"
          ]
        }
      ],
      "source": [
        "m2.summary()"
      ]
    },
    {
      "cell_type": "code",
      "source": [
        "# eval performance\n",
        "X1_test = np.asarray(test_data[numFeatures].values)\n",
        "y1_test = np.asarray(test_data['label1'].values)\n",
        "y2_test = np.asarray(test_data['label2'].values)\n",
        "\n",
        "m2.evaluate([X1_test], [y1_test, y2_test])"
      ],
      "metadata": {
        "colab": {
          "base_uri": "https://localhost:8080/"
        },
        "id": "K04g-wVETxO6",
        "outputId": "9066c118-f2e9-44c0-9edc-a0970e80e390"
      },
      "id": "K04g-wVETxO6",
      "execution_count": null,
      "outputs": [
        {
          "output_type": "stream",
          "name": "stdout",
          "text": [
            "625/625 [==============================] - 2s 3ms/step - loss: 0.9647 - out1_loss: 0.4097 - out2_loss: 0.5550 - out1_binary_accuracy: 0.7947 - out2_binary_accuracy: 0.7196\n"
          ]
        },
        {
          "output_type": "execute_result",
          "data": {
            "text/plain": [
              "[0.9647042751312256,\n",
              " 0.40966224670410156,\n",
              " 0.5550422668457031,\n",
              " 0.794700026512146,\n",
              " 0.7196499705314636]"
            ]
          },
          "metadata": {},
          "execution_count": 57
        }
      ]
    },
    {
      "cell_type": "markdown",
      "id": "f5866181-5319-472a-8b85-0004fa8c652e",
      "metadata": {
        "id": "f5866181-5319-472a-8b85-0004fa8c652e"
      },
      "source": [
        "### Checkpoint & goals\n",
        "By now you should have implemented the function **def add_label2_to_trainDF()** and replaced label1 in the above code by label2 and trained the multi-task model with these 2 tasks.\n",
        "\n",
        "Please record the performance of both the single task model and multi-task model and provide your interpretation of the results"
      ]
    },
    {
      "cell_type": "markdown",
      "source": [
        "**Single task model:**\n",
        "\n",
        "accuracy: 0.8652\n",
        "\n",
        "**Multi task model:**\n",
        "\n",
        "output1 accuracy: 0.7947\n",
        "\n",
        "output2 accuracy: 0.7196"
      ],
      "metadata": {
        "id": "lpyJo9dvULxL"
      },
      "id": "lpyJo9dvULxL"
    },
    {
      "cell_type": "markdown",
      "id": "d0478c09-91fa-404d-84f5-34ae7fe9f359",
      "metadata": {
        "id": "d0478c09-91fa-404d-84f5-34ae7fe9f359"
      },
      "source": [
        "## Freezing layers for secondary tasks\n",
        "\n",
        "Often when training a multi-task model, one needs to freeze parts of the nueral network and only train one specific task module, while keeping the weights of the other task module fixed. In Keras we can do this by freezing layers. The below example demonstrates how one could go about freezing layers in a neural network, and train only the trainable parts of a nueral network."
      ]
    },
    {
      "cell_type": "code",
      "execution_count": null,
      "id": "3b40d34e-fa1c-4e09-b29a-7df832a3746b",
      "metadata": {
        "id": "3b40d34e-fa1c-4e09-b29a-7df832a3746b",
        "outputId": "d37e1193-26e5-4a36-afdf-e29b4e0ecc30",
        "colab": {
          "base_uri": "https://localhost:8080/"
        }
      },
      "outputs": [
        {
          "output_type": "stream",
          "name": "stdout",
          "text": [
            "<keras.engine.functional.Functional object at 0x7feb8a6ce4d0> True\n",
            "<keras.engine.input_layer.InputLayer object at 0x7feb9716b890> True\n",
            "<keras.layers.core.dense.Dense object at 0x7feb8a6c5850> True\n",
            "<keras.layers.core.dense.Dense object at 0x7feb9716b690> True\n",
            "<keras.layers.core.dense.Dense object at 0x7feb8a6c5410> True\n",
            "<keras.layers.core.dense.Dense object at 0x7feb99536210> True\n",
            "<keras.layers.core.dense.Dense object at 0x7feb990f7f90> True\n",
            "<keras.layers.core.dense.Dense object at 0x7feb98f7b050> True\n",
            "<keras.layers.core.dense.Dense object at 0x7feb98f98dd0> True\n",
            "<keras.layers.core.dense.Dense object at 0x7feb9716b490> True\n"
          ]
        }
      ],
      "source": [
        "# lets print the training status of each layer of the models we have\n",
        "for k,v in m2._get_trainable_state().items():\n",
        "    print(k,v)"
      ]
    },
    {
      "cell_type": "code",
      "execution_count": null,
      "id": "4842f73e-3367-4b47-890d-93936b18b212",
      "metadata": {
        "id": "4842f73e-3367-4b47-890d-93936b18b212"
      },
      "outputs": [],
      "source": [
        "# Lets try to freeze layers for task 2 so that no training example affects the module dedicated to task 2\n",
        "for layer in m2.layers:\n",
        "    if layer.name in [\"task2a\",\"task2b\"]:\n",
        "        layer.trainable = False"
      ]
    },
    {
      "cell_type": "code",
      "execution_count": null,
      "id": "2b01277c-eb22-47b7-8bb7-7d1a106543c8",
      "metadata": {
        "id": "2b01277c-eb22-47b7-8bb7-7d1a106543c8",
        "outputId": "96069625-2071-41dd-aaf2-a73004622ba5",
        "colab": {
          "base_uri": "https://localhost:8080/"
        }
      },
      "outputs": [
        {
          "output_type": "stream",
          "name": "stdout",
          "text": [
            "<keras.engine.functional.Functional object at 0x7feb8a6ce4d0> True\n",
            "<keras.engine.input_layer.InputLayer object at 0x7feb9716b890> True\n",
            "<keras.layers.core.dense.Dense object at 0x7feb8a6c5850> True\n",
            "<keras.layers.core.dense.Dense object at 0x7feb9716b690> True\n",
            "<keras.layers.core.dense.Dense object at 0x7feb8a6c5410> True\n",
            "<keras.layers.core.dense.Dense object at 0x7feb99536210> False\n",
            "<keras.layers.core.dense.Dense object at 0x7feb990f7f90> True\n",
            "<keras.layers.core.dense.Dense object at 0x7feb98f7b050> False\n",
            "<keras.layers.core.dense.Dense object at 0x7feb98f98dd0> True\n",
            "<keras.layers.core.dense.Dense object at 0x7feb9716b490> True\n"
          ]
        }
      ],
      "source": [
        "for k,v in m2._get_trainable_state().items():\n",
        "    print(k,v)"
      ]
    },
    {
      "cell_type": "code",
      "execution_count": null,
      "id": "cf305533-a7bf-4dd5-aa5d-c02f27f33897",
      "metadata": {
        "scrolled": true,
        "tags": [],
        "id": "cf305533-a7bf-4dd5-aa5d-c02f27f33897",
        "outputId": "c2537170-a7bd-4aa2-fd86-31a6c2a1cf96",
        "colab": {
          "base_uri": "https://localhost:8080/"
        }
      },
      "outputs": [
        {
          "output_type": "stream",
          "name": "stdout",
          "text": [
            "Epoch 1/10\n",
            "100/100 [==============================] - 2s 7ms/step - loss: 0.8344 - out1_loss: 0.3919 - out2_loss: 0.4425 - out1_binary_accuracy: 0.8210 - out2_binary_accuracy: 0.7962\n",
            "Epoch 2/10\n",
            "100/100 [==============================] - 1s 7ms/step - loss: 0.8325 - out1_loss: 0.3905 - out2_loss: 0.4420 - out1_binary_accuracy: 0.8209 - out2_binary_accuracy: 0.7964\n",
            "Epoch 3/10\n",
            "100/100 [==============================] - 1s 7ms/step - loss: 0.8319 - out1_loss: 0.3899 - out2_loss: 0.4420 - out1_binary_accuracy: 0.8209 - out2_binary_accuracy: 0.7964\n",
            "Epoch 4/10\n",
            "100/100 [==============================] - 1s 7ms/step - loss: 0.8308 - out1_loss: 0.3894 - out2_loss: 0.4414 - out1_binary_accuracy: 0.8209 - out2_binary_accuracy: 0.7969\n",
            "Epoch 5/10\n",
            "100/100 [==============================] - 1s 7ms/step - loss: 0.8296 - out1_loss: 0.3883 - out2_loss: 0.4413 - out1_binary_accuracy: 0.8220 - out2_binary_accuracy: 0.7973\n",
            "Epoch 6/10\n",
            "100/100 [==============================] - 1s 7ms/step - loss: 0.8299 - out1_loss: 0.3886 - out2_loss: 0.4413 - out1_binary_accuracy: 0.8214 - out2_binary_accuracy: 0.7967\n",
            "Epoch 7/10\n",
            "100/100 [==============================] - 1s 7ms/step - loss: 0.8313 - out1_loss: 0.3899 - out2_loss: 0.4414 - out1_binary_accuracy: 0.8199 - out2_binary_accuracy: 0.7970\n",
            "Epoch 8/10\n",
            "100/100 [==============================] - 1s 7ms/step - loss: 0.8285 - out1_loss: 0.3873 - out2_loss: 0.4411 - out1_binary_accuracy: 0.8223 - out2_binary_accuracy: 0.7978\n",
            "Epoch 9/10\n",
            "100/100 [==============================] - 1s 7ms/step - loss: 0.8273 - out1_loss: 0.3867 - out2_loss: 0.4406 - out1_binary_accuracy: 0.8229 - out2_binary_accuracy: 0.7982\n",
            "Epoch 10/10\n",
            "100/100 [==============================] - 1s 7ms/step - loss: 0.8279 - out1_loss: 0.3871 - out2_loss: 0.4408 - out1_binary_accuracy: 0.8220 - out2_binary_accuracy: 0.7973\n"
          ]
        },
        {
          "output_type": "execute_result",
          "data": {
            "text/plain": [
              "<keras.callbacks.History at 0x7feb94d11610>"
            ]
          },
          "metadata": {},
          "execution_count": 61
        }
      ],
      "source": [
        "m2.compile(loss=bce,\n",
        "          optimizer='adam',\n",
        "          metrics=[metric])\n",
        "\n",
        "m2.fit([X1], [y1,y2], epochs=10, verbose=1,batch_size=1000)"
      ]
    },
    {
      "cell_type": "code",
      "execution_count": null,
      "id": "9e9b0509-3d51-46a6-84be-7a2069d0ad5f",
      "metadata": {
        "id": "9e9b0509-3d51-46a6-84be-7a2069d0ad5f"
      },
      "outputs": [],
      "source": [
        ""
      ]
    },
    {
      "cell_type": "markdown",
      "id": "48cccb53-490d-48fe-89f9-99895bdfc50d",
      "metadata": {
        "id": "48cccb53-490d-48fe-89f9-99895bdfc50d"
      },
      "source": [
        "## Tasks for Week 2 project:\n",
        "\n",
        "So glad that you have made it this far!! The above gives a high level view on how one could train single, and multi-task models and how one could go about freezing layers and training parts of a multi-task network.\n",
        "\n",
        "Lets re-iterate the main goal for this part of the project 2:\n",
        "\n",
        "- Goal: Implement the function that assigns label2 to the trainDF dataframe, and run the single task and multi-tsk models without layer freezing. Once done, compare the performance metrics for task 1 from both these models. Comment on whether the addition of second task is adding value to predictive power of first task.\n",
        "\n",
        "Optional: you can notice that we have used only numeric features in the model. Feel free to add other categorical features and re-train the model to see if the performance increases."
      ]
    },
    {
      "cell_type": "code",
      "execution_count": null,
      "id": "06a6c993-12a8-4600-9881-cd1c326d3859",
      "metadata": {
        "id": "06a6c993-12a8-4600-9881-cd1c326d3859"
      },
      "outputs": [],
      "source": [
        ""
      ]
    },
    {
      "cell_type": "markdown",
      "id": "d21b257c-d1e8-42c8-8926-86b8ee5ff88b",
      "metadata": {
        "id": "d21b257c-d1e8-42c8-8926-86b8ee5ff88b"
      },
      "source": [
        "# Contextual Bandits for Recommendations\n",
        "\n",
        "We can also use contextual bandits to produce personalized recommendations. Compared to multi-task recommenders, contextual bandits provide a balance between exploring new options and exploiting known information to find potential recommendations.\n",
        "\n",
        "## Background: multi-arm bandits\n",
        "The multi-armed bandit problem is an example of one-step reinforcement learning. To explore an example, lets assume we have a gambler who is provided a slot machine with multiple arms, each with its own unknown probability distribution of payouts. The objective is to pull the arms one-by-one in a sequence while gathering information in order to maximize the total payout over the long-run. The multi-armed bandit problem can be seen as a toy problem for reinforcement learning with one step rollout. Namely we have a game consisting of n rounds and in each round t:\n",
        "\n",
        "1. Player selects one of K actions (think of slot machines and pulling their arms, hence the name).\n",
        "2. Player gets reward of Rt . Each action i ∈ {1,2,…,K } has a fixed, but unknown to the player, reward distribution Pi with the expected reward μi .\n",
        "3. Given the history of actions and rewards Player updates their strategy.\n",
        "\n",
        "Given the history of actions and rewards, the player updates their strategy. The goal of the player is to maximize the reward, which naturally has to be done by exploring new options (and thus learning about other machines' distributions) and exploiting known actions that proved to give high rewards so far. Mathematically the player wishes to minimize the regret.\n",
        "\n",
        "## Contextual multi-arm bandits\n",
        "The contextual bandit problem is a generalization of the multi-armed bandit that extends the model by making actions conditional on the state of the environment. Unlike the classical multi-armed bandit, it addresses the problem of identifying the most appropriate content given all relevant contextual signals.\n",
        "\n",
        "1. Player gets context xt .\n",
        "2. Player selects at ∈ A .\n",
        "3. Player gets reward Rt(at) .\n",
        "4. Given the history of actions, rewards and contexts Player updates their strategy.\n",
        "\n",
        "A common real-world contextual bandit example is a recommendation system. Given a set of presented articles, a reward is determined by the click-through behavior of the user. If user clicks on the article, a payout of 1 is incurred and 0 otherwise. Click-through-rate (CRT) is used to determine the selection and placement of ads within the recommendation application.\n",
        "\n",
        "\n",
        "In explore phase the algorithm, given its internal estimates of goodness of each actions chooses the best possible action modulo exploration. For example, epsilon-greedy chooses the best action with probability (1−ϵ) and with probability ϵ it selects uniformly one of all possible actions.\n",
        "\n",
        "In the learning phase, the algorithm, after it selects an action and obtains a reward, updates its estimates of expected rewards of actions given the context. This is usually done via feeding a single example consisting of x,a,r (context, action, reward) to an estimator model doing a single update step (batch size 1). The learn phase is usually common for most algorithms and the main differences come from the exploration phase. Some algorithms include ϵ-greedy, ensemble of policies or approximations to Lin-UCB. \n",
        "ϵ-greedy tends to be a practical choice for initial experiments since it’s straightforward to understand and control its exploration. "
      ]
    },
    {
      "cell_type": "markdown",
      "id": "dc685243-6acc-460e-b6ba-15aa265daf97",
      "metadata": {
        "id": "dc685243-6acc-460e-b6ba-15aa265daf97"
      },
      "source": [
        "## Dataset: R6A - Yahoo! Front Page Today Module User Click Log Dataset, version 1.0 (1.1 GB)\n",
        "\n",
        "Our dataset contains a fraction of user click log for news articles displayed in the Featured Tab of the Today Module on Yahoo! Front Page (http://www.yahoo.com) during the first ten days in May 2009.  The articles were chosen uniformly at random from a hand-picked pool of high-quality articles, which allows one to use a recently developed method to obtain an unbiased evaluation of an arbitrary bandit algorithm.\n",
        "\n",
        "The dataset contains 45,811,883 user visits to the Today Module.  For each visit, both the user and each of the candidate articles are\n",
        "associated with a feature vector of dimension 6 (including a constant feature), constructed by conjoint analysis with a bilinear model.\n",
        "\n",
        "This dataset contains 10 files, corresponding to the first 10 days in May 2009:\n",
        "    ydata-fp-td-clicks-v1_0.20090501.gz\n",
        "    ydata-fp-td-clicks-v1_0.20090502.gz\n",
        "    ...\n",
        "    ydata-fp-td-clicks-v1_0.20090510.gz\n",
        "Each line in the files corresponds to a separate user visit.  An example line is as follows:\n",
        "\n",
        "1241160900 109513 0 |user 2:0.000012 3:0.000000 4:0.000006 5:0.000023 6:0.999958 1:1.000000 |109498 2:0.306008 3:0.000450 4:0.077048 5:0.230439 6:0.386055 1:1.000000 |109509 2:0.306008 3:0.000450 4:0.077048 5:0.230439 6:0.386055 1:1.000000 [[...more article features omitted...]] |109453 2:0.421669 3:0.000011 4:0.010902 5:0.309585 6:0.257833 1:1.000000\n",
        "\n",
        "which contains the following fields delimited with spaces:\n",
        "\n",
        "    * timestamp: e.g., 1241160900\n",
        "    * displayed_article_id: e.g., 109513\n",
        "    * user_click (0 for no-click and 1 for click): e.g., 0\n",
        "    * strings \"|user\" and \"|{article_id}\" indicate the start of user\n",
        "      and article features\n",
        "    * features are encoded as \"feature_id:feature_value\" pairs, and\n",
        "      feature_id starts from 1.\n",
        "\n",
        "The pool of available articles for recommendation for each user visit is the set of articles that appear in that line of data.  All user IDs (specifically, bcookies) are replaced by a common string 'user' so that no user information can be identified from this data.\n",
        "\n",
        "Each user or article is associated with six features.  Feature #1 is the constant (always 1) feature, and features #2-6 correspond to the 5 membership features constructed via conjoint analysis with a bilinear model.\n",
        "\n",
        "A unique property of this data set is that the displayed article is chosen uniformly at random from the candidate article pool.  Therefore, one can use an unbiased *offline* evaluation method to compare bandit algorithms in a reliable way.  Performance of some of the popular bandit algorithms can be found. We will cover the offline evaluation method in detail in week 4 of the course.\n",
        "\n",
        "The full dataset can be downloaded from:\n",
        "https://webscope.sandbox.yahoo.com/catalog.php?datatype=r&did=49\n",
        "We are going to work with a much smalled sample of this data, which can be downloaded from the Google drive link (data1.txt):\n",
        "https://drive.google.com/drive/folders/10LGZMgXRuz2qPr_QDbYdVVlKEcnQ25YL?usp=sharing\n"
      ]
    },
    {
      "cell_type": "code",
      "source": [
        "# https://drive.google.com/file/d/1G2suRKnWZagj1E6z6ROWeBbbcEMB1zgN/view?usp=sharing\n",
        "!gdown https://drive.google.com/uc?id=1G2suRKnWZagj1E6z6ROWeBbbcEMB1zgN"
      ],
      "metadata": {
        "colab": {
          "base_uri": "https://localhost:8080/"
        },
        "id": "M2_EYhgcMs3_",
        "outputId": "44847ed6-75d5-4580-8b62-a6a3e05288e2"
      },
      "id": "M2_EYhgcMs3_",
      "execution_count": null,
      "outputs": [
        {
          "output_type": "stream",
          "name": "stdout",
          "text": [
            "Downloading...\n",
            "From: https://drive.google.com/uc?id=1G2suRKnWZagj1E6z6ROWeBbbcEMB1zgN\n",
            "To: /content/data1.txt\n",
            "100% 158M/158M [00:00<00:00, 159MB/s]\n"
          ]
        }
      ]
    },
    {
      "cell_type": "code",
      "execution_count": null,
      "id": "54535a2f-7d82-489b-aa3f-79d51e3d441e",
      "metadata": {
        "id": "54535a2f-7d82-489b-aa3f-79d51e3d441e"
      },
      "outputs": [],
      "source": [
        "files = (\"data1.txt\")"
      ]
    },
    {
      "cell_type": "markdown",
      "id": "8d57d965-645f-4622-b721-7cd11500fc67",
      "metadata": {
        "id": "8d57d965-645f-4622-b721-7cd11500fc67"
      },
      "source": [
        "Now lets write a function to read this file, and store the data in articles / features / events -- which we will treat as global variables accessible to all functions later on."
      ]
    },
    {
      "cell_type": "code",
      "execution_count": null,
      "id": "a362ca4c-5f65-4f51-99c7-43b62fe6043f",
      "metadata": {
        "id": "a362ca4c-5f65-4f51-99c7-43b62fe6043f"
      },
      "outputs": [],
      "source": [
        "import numpy as np\n",
        "import fileinput\n",
        "\n",
        "def read_data(filenames):\n",
        "    \"\"\"\n",
        "    Reads a stream of events from the list of given files.\n",
        "    \n",
        "    Parameters\n",
        "    ----------\n",
        "    filenames : list\n",
        "        List of filenames\n",
        "    \n",
        "    Stores\n",
        "    -------    \n",
        "    articles : [article_ids]\n",
        "    features : [[article_1_features] .. [article_n_features]]\n",
        "    events : [\n",
        "                 0 : displayed_article_index (relative to the pool),\n",
        "                 1 : user_click,\n",
        "                 2 : [user_features],\n",
        "                 3 : [pool_indexes]\n",
        "             ]\n",
        "    \"\"\"\n",
        "\n",
        "    global articles, features, events, n_arms, n_events\n",
        "    articles = []\n",
        "    features = []\n",
        "    events = []\n",
        "\n",
        "    skipped = 0\n",
        "\n",
        "    with fileinput.input(files=filenames) as f:\n",
        "        for line in f:\n",
        "            cols = line.split()\n",
        "            if (len(cols) - 10) % 7 != 0:\n",
        "                skipped += 1\n",
        "            else:\n",
        "                pool_idx = []\n",
        "                pool_ids = []\n",
        "                for i in range(10, len(cols) - 6, 7):\n",
        "                    id = cols[i][1:]\n",
        "                    if id not in articles:\n",
        "                        articles.append(id)\n",
        "                        features.append([float(x[2:]) for x in cols[i + 1: i + 7]])\n",
        "                    pool_idx.append(articles.index(id))\n",
        "                    pool_ids.append(id)\n",
        "\n",
        "                events.append(\n",
        "                    [\n",
        "                        pool_ids.index(cols[1]),\n",
        "                        int(cols[2]),\n",
        "                        [float(x[2:]) for x in cols[4:10]],\n",
        "                        pool_idx,\n",
        "                    ]\n",
        "                )\n",
        "    features = np.array(features)\n",
        "    n_arms = len(articles)\n",
        "    n_events = len(events)\n",
        "    print(n_events, \"events with\", n_arms, \"articles\")\n",
        "    if skipped != 0:\n",
        "        print(\"Skipped events:\", skipped)"
      ]
    },
    {
      "cell_type": "markdown",
      "id": "888460da-4e01-4168-9573-761cf686786f",
      "metadata": {
        "id": "888460da-4e01-4168-9573-761cf686786f"
      },
      "source": [
        "Now lets read the file with the above defined function:"
      ]
    },
    {
      "cell_type": "code",
      "execution_count": null,
      "id": "07df3304-6701-47ff-9d0d-d5a59a5b8cb3",
      "metadata": {
        "id": "07df3304-6701-47ff-9d0d-d5a59a5b8cb3",
        "outputId": "b760cd72-2ac0-4adb-e511-d4c4300439f6",
        "colab": {
          "base_uri": "https://localhost:8080/"
        }
      },
      "outputs": [
        {
          "output_type": "stream",
          "name": "stdout",
          "text": [
            "100000 events with 21 articles\n"
          ]
        }
      ],
      "source": [
        "read_data(files)"
      ]
    },
    {
      "cell_type": "markdown",
      "id": "63d941ee-efe5-40ab-83e5-f2152a3e86a1",
      "metadata": {
        "id": "63d941ee-efe5-40ab-83e5-f2152a3e86a1"
      },
      "source": [
        ""
      ]
    },
    {
      "cell_type": "code",
      "execution_count": null,
      "id": "d943757e-660c-4648-bd50-1f5c17514e45",
      "metadata": {
        "id": "d943757e-660c-4648-bd50-1f5c17514e45"
      },
      "outputs": [],
      "source": [
        ""
      ]
    },
    {
      "cell_type": "markdown",
      "id": "95e2039e-43ba-4a09-bbc9-b2b12687e722",
      "metadata": {
        "id": "95e2039e-43ba-4a09-bbc9-b2b12687e722"
      },
      "source": [
        "## ϵ-greedy policy implementation\n",
        "Having read the files, now lets implement a simple ϵ-greedy method. Here ϵ defines the amount of exploration we wish to perform, and for the remaining 1-ϵ times the model prefers exploitation. By convention, “epsilon” represents the percentage of time/trials dedicated for exploration, and it is also typical to do random exploration. This introduces some form of stochasticity.\n",
        "\n",
        "The choose_arm function returns the best arm's index based on the ϵ-greedy policy.\n",
        "The update functiom updates algorithm's parameters(matrices) for the selected arm. It looks at the selected arm, updates the number of times this arm was chosen, and then it updates the mean reward observed for the selected arm."
      ]
    },
    {
      "cell_type": "code",
      "execution_count": null,
      "id": "d74ce40f-1fda-4397-ae7d-21f6faeacad9",
      "metadata": {
        "id": "d74ce40f-1fda-4397-ae7d-21f6faeacad9"
      },
      "outputs": [],
      "source": [
        "class Egreedy:\n",
        "    \"\"\"\n",
        "    Epsilon greedy algorithm implementation\n",
        "    \"\"\"\n",
        "\n",
        "    def __init__(self, epsilon):\n",
        "        \"\"\"\n",
        "        Parameters\n",
        "        ----------\n",
        "        epsilon : number (Egreedy parameter, ideally between 0 and 1)\n",
        "        \"\"\"\n",
        "\n",
        "        self.e = round(epsilon, 1)  # epsilon parameter for Egreedy \n",
        "        self.algorithm = \"Egreedy (ε=\" + str(self.e) + \")\"\n",
        "        self.q = np.zeros(n_arms)  # average reward for each arm -- this represents the known mean reward for each arm\n",
        "        self.n = np.zeros(n_arms)  # number of times each arm was chosen\n",
        "\n",
        "    def choose_arm(self, t, user, pool_idx):\n",
        "        \"\"\"\n",
        "        Returns the best arm's index relative to the pool\n",
        "        Parameters\n",
        "        ----------\n",
        "        t : number (number of trial)\n",
        "        user : array (user features)\n",
        "        pool_idx : array of indexes (pool indexes for article identification)\n",
        "        \"\"\"\n",
        "\n",
        "        p = np.random.rand()\n",
        "        if p > self.e:\n",
        "            return np.argmax(self.q[pool_idx])\n",
        "        else:\n",
        "            return np.random.randint(low=0, high=len(pool_idx))\n",
        "\n",
        "    def update(self, displayed, reward, user, pool_idx):\n",
        "        \"\"\"\n",
        "        Updates algorithm's parameters(matrices)\n",
        "        Parameters\n",
        "        ----------\n",
        "        displayed : index (displayed article index relative to the pool)\n",
        "        reward : binary (user clicked or not)\n",
        "        user : array (user features)\n",
        "        pool_idx : array of indexes (pool indexes for article identification)\n",
        "        \"\"\"\n",
        "\n",
        "        a = pool_idx[displayed]\n",
        "        \n",
        "        # update counts pulled for chosen arm\n",
        "        self.n[a] += 1\n",
        "        \n",
        "        # update average/mean value/reward for chosen arm\n",
        "        self.q[a] += (reward - self.q[a]) / self.n[a]\n",
        "        \"\"\"\n",
        "        this can also be written as:\n",
        "        value = self.q[a]\n",
        "        new_value = ((self.n[a]-1)/float(self.n[a])) * value + (1 / float(self.n[a])) * reward\n",
        "        self.q[a] = new_value\n",
        "        \"\"\""
      ]
    },
    {
      "cell_type": "code",
      "execution_count": null,
      "id": "085cd6c7-f260-4c3d-9e66-333b06052a7c",
      "metadata": {
        "id": "085cd6c7-f260-4c3d-9e66-333b06052a7c"
      },
      "outputs": [],
      "source": [
        ""
      ]
    },
    {
      "cell_type": "markdown",
      "id": "13ca41bc-b6b7-49c3-867b-50bc836ccae3",
      "metadata": {
        "id": "13ca41bc-b6b7-49c3-867b-50bc836ccae3"
      },
      "source": [
        "# Policy evaluation to evaluate contextual bandits\n",
        "\n",
        "We base our evaluation on the seminal work on offline evaluation of bandits as presented in:\n",
        "- [WSDM 2011] Unbiased Offline Evaluation of Contextual-bandit-based News Article Recommendation Algorithms\n",
        "https://arxiv.org/pdf/1003.5956.pdf\n",
        "\n",
        "Compared to machine learning in the more standard supervised learning setting, evaluation of methods in a contextual bandit setting is frustratingly difficult. Our goal here is to measure the performance of a bandit algorithm A, that is, a rule for selecting an arm at each time step based on the preceding interactions and current context.\n",
        "\n",
        "We suppose that there is some unknown distribution D from which tuples are drawn i.i.d. of the form (x, r1, . . . , rK), each consisting of observed context and unobserved payoffs for all arms. We also posit access to a long sequence of logged events resulting from the interaction of the uniformly random logging policy with the world. Each such event consists of the context vector x, a selected arm a, and the resulting observed payoff ra. Crucially, this logged data is partially labeled in the sense that only the payoff ra is observed for the single arm a that was chosen uniformly at random.\n",
        "\n",
        "Our goal is to use this data to evaluate a bandit algorithm A, which is a (possibly randomized) mapping for selecting the arm at at time t based on the history ht−1 of t−1 preceding events together with the current context. Therefore, the data serves as a benchmark, with which people can evaluate and compare different bandit algorithms.\n",
        "\n"
      ]
    },
    {
      "cell_type": "markdown",
      "id": "17e196e7-d1ad-4887-8d76-66213f9fdffc",
      "metadata": {
        "id": "17e196e7-d1ad-4887-8d76-66213f9fdffc"
      },
      "source": [
        "![Screenshot 2022-07-20 at 08.20.01.png](attachment:00f73cf5-c0ce-46fa-9828-24b858b47ee6.png)"
      ]
    },
    {
      "cell_type": "markdown",
      "id": "854372ec-b76f-4c85-a30f-e303979cb9f2",
      "metadata": {
        "id": "854372ec-b76f-4c85-a30f-e303979cb9f2"
      },
      "source": [
        "The policy evaluator is shown in Algorithm 1 above. The method takes as input a bandit algorithm A and a desired\n",
        "number of “valid” events T on which to base the evaluation. We then step through the stream of logged events one by one. If, given the current history ht−1, it happens that the policy A chooses the same arm a as the one that was selected by the logging policy, then the event is retained (that is, added to the history), and the total payoff updated. Otherwise, if the policy A selects a different arm from the one that was taken by the logging policy, then the event is entirely ignored, and the algorithm proceeds to the next event without any change in its state.\n",
        "\n",
        "We next implement this evaluation function below."
      ]
    },
    {
      "cell_type": "code",
      "execution_count": null,
      "id": "ad20a606-14d9-46b7-80d1-7e0f3bf70e76",
      "metadata": {
        "id": "ad20a606-14d9-46b7-80d1-7e0f3bf70e76"
      },
      "outputs": [],
      "source": [
        ""
      ]
    },
    {
      "cell_type": "code",
      "execution_count": null,
      "id": "b98f55d6-d75f-4229-b69a-4f8716d2cb1b",
      "metadata": {
        "id": "b98f55d6-d75f-4229-b69a-4f8716d2cb1b"
      },
      "outputs": [],
      "source": [
        ""
      ]
    },
    {
      "cell_type": "code",
      "execution_count": null,
      "id": "3eb3334e-253f-483c-9e39-4bdda2c3b00e",
      "metadata": {
        "id": "3eb3334e-253f-483c-9e39-4bdda2c3b00e"
      },
      "outputs": [],
      "source": [
        "import random\n",
        "import time\n",
        "\n",
        "def evaluate(A, size=100, learn_ratio = 0.9):\n",
        "    \"\"\"\n",
        "    Policy evaluator as described in the paper\n",
        "    Parameters\n",
        "    ----------\n",
        "    A : class (algorithm)\n",
        "    size : number (run the evaluation only on a portion of the dataset)\n",
        "    learn_ratio : number (perform learning(update parameters) only on a small portion of the traffic)\n",
        "    Returns\n",
        "    -------\n",
        "    learn : array (contains the ctr for each trial for the learning bucket)\n",
        "    deploy : array (contains the ctr for each trial for the deployment bucket)\n",
        "    \"\"\"\n",
        "    \n",
        "    start = time.time()\n",
        "    # we initialize the payoff and events parameters separately for learning phase of the events and deployment phase of events.\n",
        "    Payoff_deploy = 0 # total payoff for the deployment bucket\n",
        "    Payoff_learn = 0  # total payoff for the learning bucket\n",
        "    Events_deploy = 1 # counter of valid events for the deployment bucket\n",
        "    Events_learn = 0  # counter of valid events for the learning bucket\n",
        "\n",
        "    learn = []\n",
        "    deploy = []\n",
        "    global events\n",
        "    if size != 100:\n",
        "        k = int(n_events * size / 100)\n",
        "        events = random.sample(events, k)\n",
        "\n",
        "    \"\"\"\n",
        "    we run through the logged events, and treat each event either for learning & updating the parameters,\n",
        "    or for deployment purposes wherein we use the reward obtained as evaluation metric\n",
        "    \"\"\"\n",
        "    for t, event in enumerate(events):\n",
        "\n",
        "        displayed = event[0]\n",
        "        reward = event[1]\n",
        "        user = event[2]\n",
        "        pool_idx = event[3]\n",
        "\n",
        "        # select the arm based on the bandit policy\n",
        "        chosen = A.choose_arm(Payoff_learn + Payoff_deploy, user, pool_idx)\n",
        "        \n",
        "        \"\"\"\n",
        "        If, given the current history ht−1, it happens that the policy A chooses the same arm a\n",
        "        as the one that was selected by the logging policy, then the event is retained\n",
        "        (that is, added to the history), and the total payoff updated.\n",
        "        Otherwise, if the policy A selects a different arm from the one that was taken by the logging policy,\n",
        "        then the event is entirely ignored, and the algorithm proceeds to the next event without any change in its state.\n",
        "        \"\"\"\n",
        "        if chosen == displayed:\n",
        "            if random.random() < learn_ratio:\n",
        "                Payoff_learn += event[1]\n",
        "                Events_learn += 1\n",
        "                A.update(displayed, reward, user, pool_idx)\n",
        "                learn.append(Payoff_learn / Events_learn)\n",
        "            else:\n",
        "                Payoff_deploy += event[1]\n",
        "                Events_deploy += 1\n",
        "                deploy.append(Payoff_deploy / Events_deploy)\n",
        "\n",
        "    end = time.time()\n",
        "\n",
        "    execution_time = round(end - start, 1)\n",
        "    execution_time = (\n",
        "        str(round(execution_time / 60, 1)) + \"m\"\n",
        "        if execution_time > 60\n",
        "        else str(execution_time) + \"s\"\n",
        "    )\n",
        "    print(\n",
        "        \"{:<20}{:<10}{}\".format(\n",
        "            A.algorithm, round(Payoff_deploy / Events_deploy, 4), execution_time\n",
        "        )\n",
        "    )\n",
        "\n",
        "    return learn, deploy"
      ]
    },
    {
      "cell_type": "code",
      "execution_count": null,
      "id": "c803ab77-45b6-468d-94b1-5d386fbbdef5",
      "metadata": {
        "id": "c803ab77-45b6-468d-94b1-5d386fbbdef5"
      },
      "outputs": [],
      "source": [
        ""
      ]
    },
    {
      "cell_type": "markdown",
      "id": "45aa4ece-69ca-4538-a88c-92e9b18a7510",
      "metadata": {
        "id": "45aa4ece-69ca-4538-a88c-92e9b18a7510"
      },
      "source": [
        "Now lets run the evaluation method on the epsilon-greedy policy for different values of epsilon, and print the corresponding reward obtained during deployment phase of evaluation.\n",
        "## Reward based evaluation"
      ]
    },
    {
      "cell_type": "code",
      "execution_count": null,
      "id": "d226bd62-a6bd-4068-ab5d-4e2bfdf4bb9e",
      "metadata": {
        "id": "d226bd62-a6bd-4068-ab5d-4e2bfdf4bb9e",
        "outputId": "60b25486-169d-41b2-b938-9e85aae4bb73",
        "colab": {
          "base_uri": "https://localhost:8080/"
        }
      },
      "outputs": [
        {
          "output_type": "stream",
          "name": "stdout",
          "text": [
            "Egreedy (ε=0.1)     0.0287    0.6s\n",
            "Egreedy (ε=0.1)     0.0283    0.7s\n",
            "Egreedy (ε=0.1)     0.0394    0.6s\n",
            "Egreedy (ε=0.2)     0.0312    0.6s\n",
            "Egreedy (ε=0.5)     0.0308    0.6s\n",
            "Egreedy (ε=0.8)     0.0259    0.6s\n"
          ]
        }
      ],
      "source": [
        "_, deploy = evaluate(Egreedy(0.1),learn_ratio=0.25)\n",
        "rnd_ctr = deploy[-1]\n",
        "\n",
        "_, deploy = evaluate(Egreedy(0.1),learn_ratio=0.5)\n",
        "rnd_ctr = deploy[-1]\n",
        "\n",
        "_, deploy = evaluate(Egreedy(0.1),learn_ratio=0.9)\n",
        "rnd_ctr = deploy[-1]\n",
        "\n",
        "_, deploy = evaluate(Egreedy(0.25),learn_ratio=0.5)\n",
        "rnd_ctr = deploy[-1]\n",
        "\n",
        "_, deploy = evaluate(Egreedy(0.5),learn_ratio=0.5)\n",
        "rnd_ctr = deploy[-1]\n",
        "\n",
        "_, deploy = evaluate(Egreedy(0.75),learn_ratio=0.5)\n",
        "rnd_ctr = deploy[-1]"
      ]
    },
    {
      "cell_type": "code",
      "execution_count": null,
      "id": "7fb3be40-ead6-4ce0-8208-9d003d1c31a4",
      "metadata": {
        "id": "7fb3be40-ead6-4ce0-8208-9d003d1c31a4"
      },
      "outputs": [],
      "source": [
        ""
      ]
    },
    {
      "cell_type": "code",
      "execution_count": null,
      "id": "9575185b-3a33-4b50-9b3d-83a4237e766f",
      "metadata": {
        "id": "9575185b-3a33-4b50-9b3d-83a4237e766f"
      },
      "outputs": [],
      "source": [
        ""
      ]
    },
    {
      "cell_type": "code",
      "execution_count": null,
      "id": "00632099-405e-46f6-82d0-20e985ff08ab",
      "metadata": {
        "id": "00632099-405e-46f6-82d0-20e985ff08ab"
      },
      "outputs": [],
      "source": [
        ""
      ]
    },
    {
      "cell_type": "markdown",
      "id": "bd0cfb8e-7c33-4f09-b917-ca26ea091142",
      "metadata": {
        "id": "bd0cfb8e-7c33-4f09-b917-ca26ea091142"
      },
      "source": [
        "# Goal 2: finish the implementation of UCB1 algorithm"
      ]
    },
    {
      "cell_type": "markdown",
      "id": "b8bd37be-bf33-4613-b736-d674dc6d5889",
      "metadata": {
        "id": "b8bd37be-bf33-4613-b736-d674dc6d5889"
      },
      "source": [
        "## UCB-1 algorithm for arm selection\n",
        "\n",
        "Epsilon greedy performs pretty well, but it’s easy to see how selecting arms at random can be inefficient. If you have one movie that 50% of users have liked, and another at 5% have liked, epsilon greedy is equally likely to pick either of these movies when exploring random arms. Upper Confidence Bound algorithms were introduced as a class of bandit algorithm that explores more efficiently.\n",
        "\n",
        "Upper Confidence Bound algorithms construct a confidence interval of what each arm’s true performance might be, factoring in the uncertainty caused by variance in the data and the fact that we’re only able to observe a limited sample of pulls for any given arm. The algorithms then optimistically assume that each arm will perform as well as its upper confidence bound (UCB), selecting the arm with the highest UCB.\n",
        "\n",
        "### Motivation behind UCB\n",
        "Support an Artice A has been seen 100 times and has the best CTR. Article B has a slightly worse CTR than article A, but it hasn’t been seen by as many users, so there’s also more uncertainty about how well it’s going to perform in the long run. For this reason, it has a larger confidence bound, giving it a slightly higher UCB score than article A. Article C was published just moments ago, so almost no users have seen it. We’re extremely uncertain about how high its CTR will ultimately be, so its UCB is highest of all for now despite its initial CTR being low.\n",
        "\n",
        "Over time, more users will see articles B and C, and their confidence bounds will become more narrow and look more like that of article A. As we learn more about B and C, we’ll shift from exploration toward exploitation as the articles’ confidence intervals collapse toward their means. Unless the CTR of article B or C improves, the bandit will quickly start to favor article A again as the other articles’ confidence bounds shrink."
      ]
    },
    {
      "cell_type": "markdown",
      "id": "a209f8cb-1753-4f0c-b855-6ba8c1d99d9f",
      "metadata": {
        "id": "a209f8cb-1753-4f0c-b855-6ba8c1d99d9f"
      },
      "source": [
        "Let $n_t(a)$ be the number of times arm a is selected in rounds 1,2,…,t and $\\mu_t(a)$ be the average reward of arm a up to time t. The upper confidence bound is defined as:\n",
        "\n",
        "$UCB_t(a) = \\mu_t(a)+ \\sqrt{\\frac{2 \\log(t)}{ N_k(t)}}$\n",
        "\n",
        "\n",
        "where $\\mu_t(a)$ can be computed as `rewards[k] / pulls[k]` and the bound can be computed as `sqrt((2 * log(t)) / pulls[k]`.\n",
        "\n",
        "The UCB1 algorithm chooses the best arm based on an optimistic estimate.\n"
      ]
    },
    {
      "cell_type": "code",
      "execution_count": null,
      "id": "f5881aa5-6396-469d-a582-95af04e2224a",
      "metadata": {
        "id": "f5881aa5-6396-469d-a582-95af04e2224a"
      },
      "outputs": [],
      "source": [
        "class Ucb1:\n",
        "    def __init__(self, alpha):\n",
        "        \"\"\"\n",
        "        Parameters\n",
        "        ----------\n",
        "        alpha : number (ucb parameter)\n",
        "        \"\"\"\n",
        "\n",
        "        self.alpha = round(alpha, 1)\n",
        "        self.algorithm = \"UCB1 (α=\" + str(self.alpha) + \")\"\n",
        "\n",
        "        self.q = np.zeros(n_arms)  # average reward for each arm\n",
        "        self.n = np.ones(n_arms)  # number of times each arm was chosen\n",
        "\n",
        "    def choose_arm(self, t, user, pool_idx):\n",
        "        \"\"\"\n",
        "        Returns the best arm's index relative to the pool\n",
        "        Parameters\n",
        "        ----------\n",
        "        t : number (number of trial)\n",
        "        user : array (user features)\n",
        "        pool_idx : array of indexes (pool indexes for article identification)\n",
        "        \"\"\"\n",
        "\n",
        "        n_a = self.q[pool_idx] / self.n[pool_idx]\n",
        "        ucbs = n_a + self.alpha * np.sqrt(2 * np.log(t+1) / self.n[pool_idx])\n",
        "\n",
        "        return np.argmax(ucbs)\n",
        "\n",
        "    def update(self, displayed, reward, user, pool_idx):\n",
        "        \"\"\"\n",
        "        Updates algorithm's parameters(matrices)\n",
        "        Parameters\n",
        "        ----------\n",
        "        displayed : index (displayed article index relative to the pool)\n",
        "        reward : binary (user clicked or not)\n",
        "        user : array (user features)\n",
        "        pool_idx : array of indexes (pool indexes for article identification)\n",
        "        \"\"\"\n",
        "\n",
        "        a = pool_idx[displayed]\n",
        "\n",
        "        self.n[a] += 1\n",
        "        self.q[a] = (reward - self.q[a] / self.n[a])"
      ]
    },
    {
      "cell_type": "markdown",
      "id": "1d34852c-8ccf-4455-9863-5a5acc8e56f9",
      "metadata": {
        "id": "1d34852c-8ccf-4455-9863-5a5acc8e56f9"
      },
      "source": [
        "One of the most important features of the UCB is that it not only exponentially decays as the number of pulls on the given machine increases, but also increases as the timestep increases. In other words, arms that have been explored less are given a boost even if their estimated mean is low, especially if we’ve been playing for a while. In this way, the UCB1 algorithm is able to naturally define its own mix of exploration vs. exploitation without depending on a user supplied parameter like epsilon greedy."
      ]
    },
    {
      "cell_type": "markdown",
      "id": "289e5976-b260-4df9-a00c-5ffe78ae46f0",
      "metadata": {
        "id": "289e5976-b260-4df9-a00c-5ffe78ae46f0"
      },
      "source": [
        "### Goal 2 for this week's project\n",
        "Finish the implementation of the UCB1 class above, and evaluate it for a set of parameters and compare its performance with respect to ϵ-greedy policy."
      ]
    },
    {
      "cell_type": "code",
      "execution_count": null,
      "id": "44ac4c75-1e33-48f4-a3bb-fcd8cea76d77",
      "metadata": {
        "id": "44ac4c75-1e33-48f4-a3bb-fcd8cea76d77",
        "colab": {
          "base_uri": "https://localhost:8080/"
        },
        "outputId": "4ef628ee-fd50-4b6d-d86b-0c38d0f4442e"
      },
      "outputs": [
        {
          "output_type": "stream",
          "name": "stdout",
          "text": [
            "UCB1 (α=0.1)        0.0373    2.5s\n",
            "UCB1 (α=0.2)        0.0329    2.2s\n",
            "UCB1 (α=0.5)        0.0282    2.4s\n",
            "UCB1 (α=0.7)        0.0278    2.3s\n",
            "UCB1 (α=1)          0.0173    2.4s\n"
          ]
        }
      ],
      "source": [
        "_, deploy = evaluate(Ucb1(0.1))\n",
        "rnd_ctr = deploy[-1]\n",
        "\n",
        "_, deploy = evaluate(Ucb1(0.2))\n",
        "rnd_ctr = deploy[-1]\n",
        "\n",
        "_, deploy = evaluate(Ucb1(0.5))\n",
        "rnd_ctr = deploy[-1]\n",
        "\n",
        "_, deploy = evaluate(Ucb1(0.7))\n",
        "rnd_ctr = deploy[-1]\n",
        "\n",
        "_, deploy = evaluate(Ucb1(1))\n",
        "rnd_ctr = deploy[-1]"
      ]
    },
    {
      "cell_type": "code",
      "execution_count": null,
      "id": "e68fc5bf-93cc-4f1e-ab66-cfe6249edc09",
      "metadata": {
        "id": "e68fc5bf-93cc-4f1e-ab66-cfe6249edc09"
      },
      "outputs": [],
      "source": [
        ""
      ]
    },
    {
      "cell_type": "code",
      "execution_count": null,
      "id": "b5711ffd-2cab-43d1-8972-9b3b26cb14a4",
      "metadata": {
        "id": "b5711ffd-2cab-43d1-8972-9b3b26cb14a4"
      },
      "outputs": [],
      "source": [
        ""
      ]
    }
  ],
  "metadata": {
    "environment": {
      "kernel": "python3",
      "name": "tf2-gpu.2-6.m89",
      "type": "gcloud",
      "uri": "gcr.io/deeplearning-platform-release/tf2-gpu.2-6:m89"
    },
    "kernelspec": {
      "display_name": "Python 3",
      "language": "python",
      "name": "python3"
    },
    "language_info": {
      "codemirror_mode": {
        "name": "ipython",
        "version": 3
      },
      "file_extension": ".py",
      "mimetype": "text/x-python",
      "name": "python",
      "nbconvert_exporter": "python",
      "pygments_lexer": "ipython3",
      "version": "3.7.12"
    },
    "colab": {
      "name": "Copy of week2-multiTask-Bandit-final.ipynb",
      "provenance": [],
      "collapsed_sections": []
    }
  },
  "nbformat": 4,
  "nbformat_minor": 5
}